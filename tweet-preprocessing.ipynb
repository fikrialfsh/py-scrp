{
 "cells": [
  {
   "cell_type": "code",
   "execution_count": 2,
   "id": "8ddb8b46-9e10-4334-8669-c79996b1274c",
   "metadata": {},
   "outputs": [],
   "source": [
    "#library\n",
    "\n",
    "import pandas as pd\n",
    "import contractions\n",
    "import re\n",
    "import string\n",
    "from cleantext import clean\n",
    "from nltk.tokenize import word_tokenize\n",
    "import nltk\n",
    "from Sastrawi.StopWordRemover.StopWordRemoverFactory import StopWordRemoverFactory\n",
    "from Sastrawi.Stemmer.StemmerFactory import StemmerFactory\n",
    "from nltk.corpus import stopwords\n",
    "from nltk import pos_tag\n",
    "from nltk.corpus import wordnet"
   ]
  },
  {
   "cell_type": "code",
   "execution_count": 3,
   "id": "a63e70a3-46b6-415f-87d7-6ced39180d02",
   "metadata": {},
   "outputs": [],
   "source": [
    "#data cleansing\n",
    "\n",
    "def cleansing(tweet):\n",
    "    #hapus RT Tag\n",
    "    t1 = re.sub('RT\\s', '', tweet) \n",
    "    #hapus @_username\n",
    "    t2 = re.sub('\\B@\\w+', '', t1)\n",
    "    #hapus emoji\n",
    "    emoji_pattern = re.compile(\"[\"\n",
    "        u\"\\U0001F600-\\U0001F64F\"  # emoticons\n",
    "        u\"\\U0001F300-\\U0001F5FF\"  # symbols & pictographs\n",
    "        u\"\\U0001F680-\\U0001F6FF\"  # transport & map symbols\n",
    "        u\"\\U0001F1E0-\\U0001F1FF\"  # flags (iOS)\n",
    "                           \"]+\", flags=re.UNICODE)\n",
    "    \n",
    "    t3 = emoji_pattern.sub(r'', t2)\n",
    "    #hapus URL\n",
    "    t4 = re.sub(r'\\S*https?:\\S*', '', t3)\n",
    "    #hapus tagar\n",
    "    t5 = re.sub('#+', '', t4)\n",
    "    #low text/case folding\n",
    "    t6 = t5.lower()\n",
    "    #alphabets only, exclude numbers and special characters\n",
    "    t7 = re.sub(r'[^a-zA-Z]', ' ', t6)\n",
    "    #Replace contractions with their extended forms\n",
    "    t8 = contractions.fix(t7)\n",
    "    return t8"
   ]
  },
  {
   "cell_type": "code",
   "execution_count": null,
   "id": "41f27bac-ae57-4982-bf3e-c68087249e52",
   "metadata": {},
   "outputs": [],
   "source": [
    "file = input('Enter File Name:') #raw_tweet\n",
    "\n",
    "df = pd.read_csv('raw_tweets_' + file + '.csv', \n",
    "                 usecols=['created_at', 'date', 'user_id', \n",
    "                          'username', 'name', 'tweet', 'link'])\n",
    "df"
   ]
  },
  {
   "cell_type": "code",
   "execution_count": null,
   "id": "380afa8c-a4d6-496b-98fd-59b7801395a8",
   "metadata": {},
   "outputs": [],
   "source": [
    "for i, r in df.iterrows():\n",
    "    y = cleansing(r['tweet'])\n",
    "    df.loc[i, 'tweet'] = y\n",
    "    \n",
    "df.head()"
   ]
  },
  {
   "cell_type": "code",
   "execution_count": null,
   "id": "24e9df96-aeae-4dd0-bc27-c130995b92ed",
   "metadata": {},
   "outputs": [],
   "source": [
    "#POS Tagger Dictionary\n",
    "post_dict = {'J/':wordnet.ADJ, 'V':wordnet.VERB, 'N':wordnet.NOUN, 'R':wordnet.ADV}"
   ]
  },
  {
   "cell_type": "code",
   "execution_count": null,
   "id": "28146021-0b2a-4101-8043-0105b2607605",
   "metadata": {},
   "outputs": [],
   "source": [
    "def token_stop_pos(text):\n",
    "    tags = pos_tag(word_tokenize(text))\n",
    "    newlist = []\n",
    "    for word, tag in tags:\n",
    "        if word.lower() not in set(stopwords.words('indonesian')):\n",
    "            newlist.append(tuple([word, post_dict.get(tag[0])]))\n",
    "    return newlist"
   ]
  },
  {
   "cell_type": "code",
   "execution_count": null,
   "id": "b71df24c-7991-44a5-be77-3d08f8c1e560",
   "metadata": {},
   "outputs": [],
   "source": [
    "df['POS tagged'] = df['tweet'].apply(token_stop_pos)\n",
    "df.head()"
   ]
  },
  {
   "cell_type": "code",
   "execution_count": null,
   "id": "4bbcd33b-873e-43a9-9c18-65ec14eca748",
   "metadata": {},
   "outputs": [],
   "source": [
    "export = input('Enter File Name:') #cleaned_tweet\n",
    "\n",
    "df.to_csv(\"cleaned_tweets_\" + export + \".csv\", index=False)"
   ]
  },
  {
   "cell_type": "code",
   "execution_count": null,
   "id": "d86cd4b1-3c21-4c64-9a0b-2132b410eee2",
   "metadata": {},
   "outputs": [],
   "source": []
  }
 ],
 "metadata": {
  "kernelspec": {
   "display_name": "Python 3 (ipykernel)",
   "language": "python",
   "name": "python3"
  },
  "language_info": {
   "codemirror_mode": {
    "name": "ipython",
    "version": 3
   },
   "file_extension": ".py",
   "mimetype": "text/x-python",
   "name": "python",
   "nbconvert_exporter": "python",
   "pygments_lexer": "ipython3",
   "version": "3.10.5"
  }
 },
 "nbformat": 4,
 "nbformat_minor": 5
}

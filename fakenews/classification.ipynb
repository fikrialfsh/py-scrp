{
 "cells": [
  {
   "cell_type": "code",
   "execution_count": 63,
   "id": "044d76ea-4e34-4e60-9d60-7daa80c8be9d",
   "metadata": {},
   "outputs": [],
   "source": [
    "import pandas as pd\n",
    "import numpy as np"
   ]
  },
  {
   "cell_type": "code",
   "execution_count": 64,
   "id": "9f45f7bd-485d-40b2-8c0a-01cd26561165",
   "metadata": {},
   "outputs": [],
   "source": [
    "truenews = pd.read_csv('true_dataset.csv')\n",
    "fakenews = pd.read_csv('fake_dataset.csv')"
   ]
  },
  {
   "cell_type": "code",
   "execution_count": 65,
   "id": "a2faa649",
   "metadata": {},
   "outputs": [],
   "source": [
    "data = pd.concat([truenews, fakenews])"
   ]
  },
  {
   "cell_type": "code",
   "execution_count": 66,
   "id": "dcce6ab1",
   "metadata": {},
   "outputs": [],
   "source": [
    "data_final = data[['Label', 'tweet']]"
   ]
  },
  {
   "cell_type": "code",
   "execution_count": 67,
   "id": "467760f2",
   "metadata": {},
   "outputs": [
    {
     "data": {
      "text/plain": [
       "HOAKS    21\n",
       "FAKTA    16\n",
       "Name: Label, dtype: int64"
      ]
     },
     "execution_count": 67,
     "metadata": {},
     "output_type": "execute_result"
    }
   ],
   "source": [
    "data_final.Label.value_counts() "
   ]
  },
  {
   "cell_type": "code",
   "execution_count": 68,
   "id": "287a489d",
   "metadata": {},
   "outputs": [
    {
     "name": "stderr",
     "output_type": "stream",
     "text": [
      "/var/folders/rz/pqnzp2f91gdc909lx16dwwr80000gn/T/ipykernel_29967/2254299375.py:1: SettingWithCopyWarning: \n",
      "A value is trying to be set on a copy of a slice from a DataFrame.\n",
      "Try using .loc[row_indexer,col_indexer] = value instead\n",
      "\n",
      "See the caveats in the documentation: https://pandas.pydata.org/pandas-docs/stable/user_guide/indexing.html#returning-a-view-versus-a-copy\n",
      "  data_final['label_num'] = data_final.Label.map({'FAKTA': 1, 'HOAKS': 0})\n"
     ]
    }
   ],
   "source": [
    "data_final['label_num'] = data_final.Label.map({'FAKTA': 1, 'HOAKS': 0})"
   ]
  },
  {
   "cell_type": "code",
   "execution_count": 69,
   "id": "549611ec",
   "metadata": {},
   "outputs": [],
   "source": [
    "from sklearn.feature_extraction.text import CountVectorizer, TfidfTransformer"
   ]
  },
  {
   "cell_type": "code",
   "execution_count": 70,
   "id": "b5d6ec2f",
   "metadata": {},
   "outputs": [],
   "source": [
    "#Data Cleaning\n",
    "from nltk.corpus import stopwords\n",
    "import string\n",
    "def process_text(text: str):\n",
    "    nopunc = [char for char in text if char not in string.punctuation]\n",
    "\n",
    "    # Join the characters again to form the string.\n",
    "    nopunc = ''.join(nopunc)\n",
    "    \n",
    "    # Convert string to lowercase and remove stopwords\n",
    "    clean_string = [word for word in nopunc.split() if word.lower() not in stopwords.words('indonesian')]\n",
    "    return clean_string"
   ]
  },
  {
   "cell_type": "code",
   "execution_count": 71,
   "id": "9f4cfd76",
   "metadata": {},
   "outputs": [
    {
     "name": "stderr",
     "output_type": "stream",
     "text": [
      "/var/folders/rz/pqnzp2f91gdc909lx16dwwr80000gn/T/ipykernel_29967/3050993249.py:1: SettingWithCopyWarning: \n",
      "A value is trying to be set on a copy of a slice from a DataFrame.\n",
      "Try using .loc[row_indexer,col_indexer] = value instead\n",
      "\n",
      "See the caveats in the documentation: https://pandas.pydata.org/pandas-docs/stable/user_guide/indexing.html#returning-a-view-versus-a-copy\n",
      "  data_final['tweet_clean'] = data_final.tweet.apply(process_text)\n"
     ]
    }
   ],
   "source": [
    "data_final['tweet_clean'] = data_final.tweet.apply(process_text)"
   ]
  },
  {
   "cell_type": "code",
   "execution_count": 72,
   "id": "0b611124",
   "metadata": {},
   "outputs": [
    {
     "data": {
      "text/plain": [
       "0     apa penyebab varian baru virus corona kembali ...\n",
       "1     virus corona atau covid    terus bermutasi hin...\n",
       "2     kenapa varian dan subvarian baru virus corona ...\n",
       "3     kenapa varian dan subvarian baru virus corona ...\n",
       "4     pemerintah mewaspadai munculnya virus corona v...\n",
       "5     aturan ini akan berubah bila ada varian baru v...\n",
       "6     commuters  hati hati ada varian baru nih     v...\n",
       "7     meski kenaikan kasus covid    di indonesia bel...\n",
       "8     lawanvarianbaru  tanda  omricon varian baru  g...\n",
       "9     varian baru corona omicron ba   dan ba   kini ...\n",
       "10    ada varian baru virus corona  indonesia bersia...\n",
       "11    jangan abai  jangan panik  tetap waspadai vari...\n",
       "12     tetap harus waspada dengan virus corona varia...\n",
       "13    virus grismo varian baru corona muncul di swed...\n",
       "14     tetap harus waspada dengan virus corona varia...\n",
       "15     tetap harus waspada dengan virus corona varia...\n",
       "0     saya lebih percaya kpd dr  siti fadilah supari...\n",
       "1      smoga sj bukan jd bisnis  ada yg bilang klo b...\n",
       "2      logikanya  kenapa ke afrika  afrika daya beli...\n",
       "3     wajar   komnas ini ada hanya utk menguatkan bi...\n",
       "4                            bisnis vaksin ga diitung  \n",
       "5      virus ohvirus  padahal kita bisa menolak dari...\n",
       "6     itu penjanjian tipuan yg di gunakan utk penghu...\n",
       "7                           amp  bisnis vaksin pastinya\n",
       "8               bentar lagi bisnis vaksin cacar monyet \n",
       "9     masa ada yang percaya sih virus corona menyeba...\n",
       "10    viral virus corona menyebar lewat hp xiaomi  i...\n",
       "11    waspada  virus corona menyebar lewat hp cina  ...\n",
       "12    waspada  virus corona menyebar lewat hp cina  ...\n",
       "13                 virus corona menyebar lewat hp xiomi\n",
       "14    soal virus corona menyebar lewat hp xiaomi  ik...\n",
       "15     wuhan jiayou   virus corona menyebar lewat hp...\n",
       "16    viral virus corona menyebar lewat hp xiaomi da...\n",
       "17                virus corona menyebar lewat hp xiaomi\n",
       "18                virus corona menyebar lewat hp xiomi \n",
       "19    daro joke virus corona menyebar lewat hp xiaom...\n",
       "20    virus corona menyebar lewat hp xiaomi  jika ad...\n",
       "Name: tweet, dtype: object"
      ]
     },
     "execution_count": 72,
     "metadata": {},
     "output_type": "execute_result"
    }
   ],
   "source": [
    "x = data_final.tweet\n",
    "y = data_final['label_num']\n",
    "\n",
    "x"
   ]
  },
  {
   "cell_type": "code",
   "execution_count": null,
   "id": "05fd7733",
   "metadata": {},
   "outputs": [],
   "source": []
  },
  {
   "cell_type": "code",
   "execution_count": 87,
   "id": "fc067384",
   "metadata": {},
   "outputs": [
    {
     "name": "stdout",
     "output_type": "stream",
     "text": [
      "(27,)\n",
      "(10,)\n",
      "(27,)\n"
     ]
    }
   ],
   "source": [
    "from sklearn.model_selection import train_test_split\n",
    "x_train, x_test, y_train, y_test = train_test_split(x, y, random_state=1)\n",
    "\n",
    "print(x_train.shape)\n",
    "print(x_test.shape)\n",
    "print(y_train.shape)"
   ]
  },
  {
   "cell_type": "code",
   "execution_count": null,
   "id": "172a052f",
   "metadata": {},
   "outputs": [],
   "source": []
  },
  {
   "cell_type": "code",
   "execution_count": null,
   "id": "4c175a0f",
   "metadata": {},
   "outputs": [],
   "source": []
  },
  {
   "cell_type": "code",
   "execution_count": 94,
   "id": "68e0ece1",
   "metadata": {},
   "outputs": [],
   "source": [
    "vec = CountVectorizer()\n",
    "vec.fit(x_train)\n",
    "x_train_dtm = vec.transform(x_train)\n",
    "x_train_dtm = vec.fit_transform(x_train)"
   ]
  },
  {
   "cell_type": "code",
   "execution_count": 79,
   "id": "ea0229ba",
   "metadata": {},
   "outputs": [
    {
     "data": {
      "text/plain": [
       "<27x231 sparse matrix of type '<class 'numpy.int64'>'\n",
       "\twith 408 stored elements in Compressed Sparse Row format>"
      ]
     },
     "execution_count": 79,
     "metadata": {},
     "output_type": "execute_result"
    }
   ],
   "source": [
    "x_train_dtm"
   ]
  },
  {
   "cell_type": "code",
   "execution_count": 95,
   "id": "45ffdee1",
   "metadata": {},
   "outputs": [],
   "source": [
    "x_test_dtm = vec.transform(x_test)"
   ]
  },
  {
   "cell_type": "code",
   "execution_count": 96,
   "id": "6dc49f8e",
   "metadata": {},
   "outputs": [
    {
     "data": {
      "text/plain": [
       "<10x231 sparse matrix of type '<class 'numpy.int64'>'\n",
       "\twith 70 stored elements in Compressed Sparse Row format>"
      ]
     },
     "execution_count": 96,
     "metadata": {},
     "output_type": "execute_result"
    }
   ],
   "source": [
    "x_test_dtm"
   ]
  },
  {
   "cell_type": "code",
   "execution_count": null,
   "id": "e1450c45",
   "metadata": {},
   "outputs": [],
   "source": []
  },
  {
   "cell_type": "code",
   "execution_count": 97,
   "id": "6735835a",
   "metadata": {},
   "outputs": [
    {
     "data": {
      "text/html": [
       "<style>#sk-container-id-3 {color: black;background-color: white;}#sk-container-id-3 pre{padding: 0;}#sk-container-id-3 div.sk-toggleable {background-color: white;}#sk-container-id-3 label.sk-toggleable__label {cursor: pointer;display: block;width: 100%;margin-bottom: 0;padding: 0.3em;box-sizing: border-box;text-align: center;}#sk-container-id-3 label.sk-toggleable__label-arrow:before {content: \"▸\";float: left;margin-right: 0.25em;color: #696969;}#sk-container-id-3 label.sk-toggleable__label-arrow:hover:before {color: black;}#sk-container-id-3 div.sk-estimator:hover label.sk-toggleable__label-arrow:before {color: black;}#sk-container-id-3 div.sk-toggleable__content {max-height: 0;max-width: 0;overflow: hidden;text-align: left;background-color: #f0f8ff;}#sk-container-id-3 div.sk-toggleable__content pre {margin: 0.2em;color: black;border-radius: 0.25em;background-color: #f0f8ff;}#sk-container-id-3 input.sk-toggleable__control:checked~div.sk-toggleable__content {max-height: 200px;max-width: 100%;overflow: auto;}#sk-container-id-3 input.sk-toggleable__control:checked~label.sk-toggleable__label-arrow:before {content: \"▾\";}#sk-container-id-3 div.sk-estimator input.sk-toggleable__control:checked~label.sk-toggleable__label {background-color: #d4ebff;}#sk-container-id-3 div.sk-label input.sk-toggleable__control:checked~label.sk-toggleable__label {background-color: #d4ebff;}#sk-container-id-3 input.sk-hidden--visually {border: 0;clip: rect(1px 1px 1px 1px);clip: rect(1px, 1px, 1px, 1px);height: 1px;margin: -1px;overflow: hidden;padding: 0;position: absolute;width: 1px;}#sk-container-id-3 div.sk-estimator {font-family: monospace;background-color: #f0f8ff;border: 1px dotted black;border-radius: 0.25em;box-sizing: border-box;margin-bottom: 0.5em;}#sk-container-id-3 div.sk-estimator:hover {background-color: #d4ebff;}#sk-container-id-3 div.sk-parallel-item::after {content: \"\";width: 100%;border-bottom: 1px solid gray;flex-grow: 1;}#sk-container-id-3 div.sk-label:hover label.sk-toggleable__label {background-color: #d4ebff;}#sk-container-id-3 div.sk-serial::before {content: \"\";position: absolute;border-left: 1px solid gray;box-sizing: border-box;top: 0;bottom: 0;left: 50%;z-index: 0;}#sk-container-id-3 div.sk-serial {display: flex;flex-direction: column;align-items: center;background-color: white;padding-right: 0.2em;padding-left: 0.2em;position: relative;}#sk-container-id-3 div.sk-item {position: relative;z-index: 1;}#sk-container-id-3 div.sk-parallel {display: flex;align-items: stretch;justify-content: center;background-color: white;position: relative;}#sk-container-id-3 div.sk-item::before, #sk-container-id-3 div.sk-parallel-item::before {content: \"\";position: absolute;border-left: 1px solid gray;box-sizing: border-box;top: 0;bottom: 0;left: 50%;z-index: -1;}#sk-container-id-3 div.sk-parallel-item {display: flex;flex-direction: column;z-index: 1;position: relative;background-color: white;}#sk-container-id-3 div.sk-parallel-item:first-child::after {align-self: flex-end;width: 50%;}#sk-container-id-3 div.sk-parallel-item:last-child::after {align-self: flex-start;width: 50%;}#sk-container-id-3 div.sk-parallel-item:only-child::after {width: 0;}#sk-container-id-3 div.sk-dashed-wrapped {border: 1px dashed gray;margin: 0 0.4em 0.5em 0.4em;box-sizing: border-box;padding-bottom: 0.4em;background-color: white;}#sk-container-id-3 div.sk-label label {font-family: monospace;font-weight: bold;display: inline-block;line-height: 1.2em;}#sk-container-id-3 div.sk-label-container {text-align: center;}#sk-container-id-3 div.sk-container {/* jupyter's `normalize.less` sets `[hidden] { display: none; }` but bootstrap.min.css set `[hidden] { display: none !important; }` so we also need the `!important` here to be able to override the default hidden behavior on the sphinx rendered scikit-learn.org. See: https://github.com/scikit-learn/scikit-learn/issues/21755 */display: inline-block !important;position: relative;}#sk-container-id-3 div.sk-text-repr-fallback {display: none;}</style><div id=\"sk-container-id-3\" class=\"sk-top-container\"><div class=\"sk-text-repr-fallback\"><pre>MultinomialNB()</pre><b>In a Jupyter environment, please rerun this cell to show the HTML representation or trust the notebook. <br />On GitHub, the HTML representation is unable to render, please try loading this page with nbviewer.org.</b></div><div class=\"sk-container\" hidden><div class=\"sk-item\"><div class=\"sk-estimator sk-toggleable\"><input class=\"sk-toggleable__control sk-hidden--visually\" id=\"sk-estimator-id-3\" type=\"checkbox\" checked><label for=\"sk-estimator-id-3\" class=\"sk-toggleable__label sk-toggleable__label-arrow\">MultinomialNB</label><div class=\"sk-toggleable__content\"><pre>MultinomialNB()</pre></div></div></div></div></div>"
      ],
      "text/plain": [
       "MultinomialNB()"
      ]
     },
     "execution_count": 97,
     "metadata": {},
     "output_type": "execute_result"
    }
   ],
   "source": [
    "from sklearn.naive_bayes import MultinomialNB\n",
    "\n",
    "model = MultinomialNB()\n",
    "model.fit(x_train_dtm, y_train)"
   ]
  },
  {
   "cell_type": "code",
   "execution_count": 100,
   "id": "e259df68",
   "metadata": {},
   "outputs": [],
   "source": [
    "y_result = model.predict(x_test_dtm)"
   ]
  },
  {
   "cell_type": "code",
   "execution_count": 101,
   "id": "612836c2",
   "metadata": {},
   "outputs": [],
   "source": [
    "import pickle\n",
    "pickle.dump(model, open('model.pkl', 'wb'))"
   ]
  },
  {
   "cell_type": "code",
   "execution_count": 102,
   "id": "82e90136",
   "metadata": {},
   "outputs": [],
   "source": [
    "text = \"flu burung dl untuk di jadikan lahan bisnis vaksin\"\n",
    "x_text = vec.transform([text])"
   ]
  },
  {
   "cell_type": "code",
   "execution_count": null,
   "id": "8120e7fa",
   "metadata": {},
   "outputs": [],
   "source": []
  },
  {
   "cell_type": "code",
   "execution_count": 103,
   "id": "324e9bfb",
   "metadata": {},
   "outputs": [
    {
     "data": {
      "text/plain": [
       "array([0])"
      ]
     },
     "execution_count": 103,
     "metadata": {},
     "output_type": "execute_result"
    }
   ],
   "source": [
    "model.predict(x_text)"
   ]
  },
  {
   "cell_type": "code",
   "execution_count": null,
   "id": "00760ee6",
   "metadata": {},
   "outputs": [],
   "source": []
  },
  {
   "cell_type": "code",
   "execution_count": 99,
   "id": "3e80e6ba",
   "metadata": {},
   "outputs": [
    {
     "data": {
      "text/plain": [
       "array([1])"
      ]
     },
     "execution_count": 99,
     "metadata": {},
     "output_type": "execute_result"
    }
   ],
   "source": [
    "y_result"
   ]
  },
  {
   "cell_type": "code",
   "execution_count": null,
   "id": "398e153e",
   "metadata": {},
   "outputs": [],
   "source": []
  },
  {
   "cell_type": "code",
   "execution_count": 93,
   "id": "a8ffbaae",
   "metadata": {},
   "outputs": [
    {
     "data": {
      "text/plain": [
       "array([0])"
      ]
     },
     "execution_count": 93,
     "metadata": {},
     "output_type": "execute_result"
    }
   ],
   "source": [
    "y_result"
   ]
  },
  {
   "cell_type": "code",
   "execution_count": null,
   "id": "d62b140d",
   "metadata": {},
   "outputs": [],
   "source": []
  },
  {
   "cell_type": "code",
   "execution_count": 91,
   "id": "27e12006",
   "metadata": {},
   "outputs": [
    {
     "data": {
      "text/plain": [
       "array([0, 0, 0, 0, 0, 0, 1, 1, 1, 0, 0, 0, 0, 0, 1, 1, 1, 0, 1, 0, 1, 1,\n",
       "       1, 1, 1, 1, 1])"
      ]
     },
     "execution_count": 91,
     "metadata": {},
     "output_type": "execute_result"
    }
   ],
   "source": [
    "y_result"
   ]
  },
  {
   "cell_type": "code",
   "execution_count": 104,
   "id": "856a3c72",
   "metadata": {},
   "outputs": [],
   "source": [
    "pickle.dump(vec, open('vec.pkl', 'wb'))"
   ]
  },
  {
   "cell_type": "code",
   "execution_count": null,
   "id": "06ae5080",
   "metadata": {},
   "outputs": [],
   "source": []
  }
 ],
 "metadata": {
  "kernelspec": {
   "display_name": "Python 3.10.4 ('kuliahenv')",
   "language": "python",
   "name": "python3"
  },
  "language_info": {
   "codemirror_mode": {
    "name": "ipython",
    "version": 3
   },
   "file_extension": ".py",
   "mimetype": "text/x-python",
   "name": "python",
   "nbconvert_exporter": "python",
   "pygments_lexer": "ipython3",
   "version": "3.10.4"
  },
  "vscode": {
   "interpreter": {
    "hash": "bbec9e76ff4f096f8a02df180651625a4ce053f15d9d4f14fff0821c4a354921"
   }
  }
 },
 "nbformat": 4,
 "nbformat_minor": 5
}

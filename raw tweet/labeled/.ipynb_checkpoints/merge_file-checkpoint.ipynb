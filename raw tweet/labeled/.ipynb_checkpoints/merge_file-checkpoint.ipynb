{
 "cells": [
  {
   "cell_type": "code",
   "execution_count": null,
   "id": "81cd9dbf-d421-4fca-b47e-a5e5720a9902",
   "metadata": {},
   "outputs": [],
   "source": [
    "import pandas as pd"
   ]
  },
  {
   "cell_type": "code",
   "execution_count": null,
   "id": "9bac2dd6-8d58-44d0-829c-f7a0534a7f08",
   "metadata": {},
   "outputs": [],
   "source": [
    "data1 = pd.read_csv('labeled_tweets_bill gates pencipta virus.csv')\n",
    "data2 = pd.read_csv('labeled_tweets_kopi atasi omicron.csv')\n",
    "data3 = pd.read_csv('labeled_tweets_pandemi sudah berakhir.csv')\n",
    "data4 = pd.read_csv('labeled_tweets_omicron tidak mematikan.csv')\n",
    "data5 = pd.read_csv('labeled_tweets_nasi kucing n.csv')\n",
    "data6 = pd.read_csv('labeled_tweets_depopulasi n.csv')\n",
    "data7 = pd.read_csv('labeled_tweets_varian delmicron.csv')\n",
    "data8 = pd.read_csv('labeled_tweets_vaksin menyebabkan kematian.csv')\n",
    "data9 = pd.read_csv('labeled_tweets_bill gates pencipta virus.csv')\n",
    "data10 = pd.read_csv('labeled_tweets_kopi atasi omicron.csv')\n",
    "data11 = pd.read_csv('labeled_tweets_pandemi sudah berakhir.csv')\n",
    "data12 = pd.read_csv('labeled_tweets_omicron tidak mematikan.csv')\n",
    "data13 = pd.read_csv('labeled_tweets_nasi kucing n.csv')\n",
    "data14 = pd.read_csv('labeled_tweets_depopulasi n.csv')\n",
    "data15 = pd.read_csv('labeled_tweets_varian delmicron.csv')\n",
    "data16 = pd.read_csv('labeled_tweets_vaksin menyebabkan kematian.csv')\n",
    "data17 = pd.read_csv('labeled_tweets_bill gates pencipta virus.csv')\n",
    "data18 = pd.read_csv('labeled_tweets_kopi atasi omicron.csv')\n",
    "data19 = pd.read_csv('labeled_tweets_pandemi sudah berakhir.csv')\n",
    "data20 = pd.read_csv('labeled_tweets_omicron tidak mematikan.csv')\n",
    "data21 = pd.read_csv('labeled_tweets_nasi kucing n.csv')\n",
    "data22 = pd.read_csv('labeled_tweets_depopulasi n.csv')\n",
    "data23 = pd.read_csv('labeled_tweets_varian delmicron.csv')\n",
    "data24 = pd.read_csv('labeled_tweets_vaksin menyebabkan kematian.csv')\n",
    "data25 = pd.read_csv('labeled_tweets_bill gates pencipta virus.csv')\n",
    "data26 = pd.read_csv('labeled_tweets_kopi atasi omicron.csv')\n",
    "data27 = pd.read_csv('labeled_tweets_pandemi sudah berakhir.csv')\n",
    "data28 = pd.read_csv('labeled_tweets_omicron tidak mematikan.csv')\n",
    "data29 = pd.read_csv('labeled_tweets_nasi kucing n.csv')\n",
    "data30 = pd.read_csv('labeled_tweets_depopulasi n.csv')\n",
    "data31 = pd.read_csv('labeled_tweets_varian delmicron.csv')\n"
   ]
  },
  {
   "cell_type": "code",
   "execution_count": null,
   "id": "b55b5e53-5191-46ec-af1f-b1358a67c89e",
   "metadata": {},
   "outputs": [],
   "source": [
    "data1.drop(data1[data1['Label'] == 1].index, inplace = True)\n",
    "data1"
   ]
  },
  {
   "cell_type": "code",
   "execution_count": null,
   "id": "6e010da2-d23b-492b-9c88-1d7db50ee435",
   "metadata": {},
   "outputs": [],
   "source": [
    "data2.drop(data2[data2['Label'] == 2].index, inplace = True)\n",
    "data2"
   ]
  },
  {
   "cell_type": "code",
   "execution_count": null,
   "id": "010ed7f3",
   "metadata": {},
   "outputs": [],
   "source": [
    "data3.drop(data3[data3['Label'] == 1].index, inplace = True)\n",
    "data3"
   ]
  },
  {
   "cell_type": "code",
   "execution_count": null,
   "id": "fe4eec42",
   "metadata": {},
   "outputs": [],
   "source": [
    "data4.drop(data4[data4['Label'] == 1].index, inplace = True)\n",
    "data4"
   ]
  },
  {
   "cell_type": "code",
   "execution_count": null,
   "id": "dc6d365a",
   "metadata": {},
   "outputs": [],
   "source": [
    "data5.drop(data5[data5['Label'] == 1].index, inplace = True)\n",
    "data5"
   ]
  },
  {
   "cell_type": "code",
   "execution_count": null,
   "id": "91d9a0ab",
   "metadata": {},
   "outputs": [],
   "source": [
    "data6.drop(data6[data6['Label'] == 1].index, inplace = True)\n",
    "data6"
   ]
  },
  {
   "cell_type": "code",
   "execution_count": null,
   "id": "e3b83739",
   "metadata": {},
   "outputs": [],
   "source": [
    "data7.drop(data7[data7['Label'] == 1].index, inplace = True)\n",
    "data7"
   ]
  },
  {
   "cell_type": "code",
   "execution_count": null,
   "id": "8bf3e03c",
   "metadata": {},
   "outputs": [],
   "source": [
    "data8.drop(data8[data8['Label'] == 1].index, inplace = True)\n",
    "data8"
   ]
  },
  {
   "cell_type": "code",
   "execution_count": null,
   "id": "2f52f4e1-a7dd-4ab7-b29b-424b9d1aeb28",
   "metadata": {
    "scrolled": true
   },
   "outputs": [],
   "source": [
    "frames = [data1, data2, data3, data4, data5, data6, data7, data8]\n",
    "result = pd.concat(frames).drop_duplicates().reset_index(drop=True)\n",
    "result"
   ]
  },
  {
   "cell_type": "code",
   "execution_count": null,
   "id": "950c8818-2402-433d-911b-7cd740284acd",
   "metadata": {},
   "outputs": [],
   "source": [
    "label = []\n",
    "for index, row in result.iterrows():\n",
    "    if row['Label'] == 1:\n",
    "        label.append('FAKTA')\n",
    "    else:\n",
    "        label.append('HOAKS')\n",
    "result['Label'] = label\n",
    "result"
   ]
  },
  {
   "cell_type": "code",
   "execution_count": null,
   "id": "6028b637-8ad9-4fd9-a1ff-06e95448cecc",
   "metadata": {},
   "outputs": [],
   "source": [
    "result.to_csv(\"fake_dataset.csv\", index=False)"
   ]
  },
  {
   "cell_type": "code",
   "execution_count": null,
   "id": "d87b2213-270c-49f8-b2e1-56b608a94503",
   "metadata": {},
   "outputs": [],
   "source": []
  }
 ],
 "metadata": {
  "kernelspec": {
   "display_name": "Python 3 (ipykernel)",
   "language": "python",
   "name": "python3"
  },
  "language_info": {
   "codemirror_mode": {
    "name": "ipython",
    "version": 3
   },
   "file_extension": ".py",
   "mimetype": "text/x-python",
   "name": "python",
   "nbconvert_exporter": "python",
   "pygments_lexer": "ipython3",
   "version": "3.10.5"
  }
 },
 "nbformat": 4,
 "nbformat_minor": 5
}

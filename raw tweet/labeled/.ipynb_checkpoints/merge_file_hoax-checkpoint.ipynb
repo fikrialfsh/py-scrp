{
 "cells": [
  {
   "cell_type": "code",
   "execution_count": 1,
   "id": "81cd9dbf-d421-4fca-b47e-a5e5720a9902",
   "metadata": {},
   "outputs": [],
   "source": [
    "import pandas as pd"
   ]
  },
  {
   "cell_type": "code",
   "execution_count": 2,
   "id": "9bac2dd6-8d58-44d0-829c-f7a0534a7f08",
   "metadata": {},
   "outputs": [
    {
     "ename": "FileNotFoundError",
     "evalue": "[Errno 2] No such file or directory: 'labeled_tweets_varian covid yang membahayakan.csv'",
     "output_type": "error",
     "traceback": [
      "\u001b[1;31m---------------------------------------------------------------------------\u001b[0m",
      "\u001b[1;31mFileNotFoundError\u001b[0m                         Traceback (most recent call last)",
      "Input \u001b[1;32mIn [2]\u001b[0m, in \u001b[0;36m<cell line: 23>\u001b[1;34m()\u001b[0m\n\u001b[0;32m     21\u001b[0m data21 \u001b[38;5;241m=\u001b[39m pd\u001b[38;5;241m.\u001b[39mread_csv(\u001b[38;5;124m'\u001b[39m\u001b[38;5;124mlabeled_tweets_masker kompas.csv\u001b[39m\u001b[38;5;124m'\u001b[39m)\n\u001b[0;32m     22\u001b[0m data22 \u001b[38;5;241m=\u001b[39m pd\u001b[38;5;241m.\u001b[39mread_csv(\u001b[38;5;124m'\u001b[39m\u001b[38;5;124mlabeled_tweets_masker lip6.csv\u001b[39m\u001b[38;5;124m'\u001b[39m)\n\u001b[1;32m---> 23\u001b[0m data23 \u001b[38;5;241m=\u001b[39m \u001b[43mpd\u001b[49m\u001b[38;5;241;43m.\u001b[39;49m\u001b[43mread_csv\u001b[49m\u001b[43m(\u001b[49m\u001b[38;5;124;43m'\u001b[39;49m\u001b[38;5;124;43mlabeled_tweets_varian covid yang membahayakan.csv\u001b[39;49m\u001b[38;5;124;43m'\u001b[39;49m\u001b[43m)\u001b[49m\n\u001b[0;32m     24\u001b[0m data24 \u001b[38;5;241m=\u001b[39m pd\u001b[38;5;241m.\u001b[39mread_csv(\u001b[38;5;124m'\u001b[39m\u001b[38;5;124mlabeled_tweets_pelanggaran protokol kesehatan.csv\u001b[39m\u001b[38;5;124m'\u001b[39m)\n\u001b[0;32m     25\u001b[0m data25 \u001b[38;5;241m=\u001b[39m pd\u001b[38;5;241m.\u001b[39mread_csv(\u001b[38;5;124m'\u001b[39m\u001b[38;5;124mlabeled_tweets_pembatasan sosial berskala besar.csv\u001b[39m\u001b[38;5;124m'\u001b[39m)\n",
      "File \u001b[1;32m~\\AppData\\Local\\Programs\\Python\\Python310\\lib\\site-packages\\pandas\\util\\_decorators.py:311\u001b[0m, in \u001b[0;36mdeprecate_nonkeyword_arguments.<locals>.decorate.<locals>.wrapper\u001b[1;34m(*args, **kwargs)\u001b[0m\n\u001b[0;32m    305\u001b[0m \u001b[38;5;28;01mif\u001b[39;00m \u001b[38;5;28mlen\u001b[39m(args) \u001b[38;5;241m>\u001b[39m num_allow_args:\n\u001b[0;32m    306\u001b[0m     warnings\u001b[38;5;241m.\u001b[39mwarn(\n\u001b[0;32m    307\u001b[0m         msg\u001b[38;5;241m.\u001b[39mformat(arguments\u001b[38;5;241m=\u001b[39marguments),\n\u001b[0;32m    308\u001b[0m         \u001b[38;5;167;01mFutureWarning\u001b[39;00m,\n\u001b[0;32m    309\u001b[0m         stacklevel\u001b[38;5;241m=\u001b[39mstacklevel,\n\u001b[0;32m    310\u001b[0m     )\n\u001b[1;32m--> 311\u001b[0m \u001b[38;5;28;01mreturn\u001b[39;00m func(\u001b[38;5;241m*\u001b[39margs, \u001b[38;5;241m*\u001b[39m\u001b[38;5;241m*\u001b[39mkwargs)\n",
      "File \u001b[1;32m~\\AppData\\Local\\Programs\\Python\\Python310\\lib\\site-packages\\pandas\\io\\parsers\\readers.py:680\u001b[0m, in \u001b[0;36mread_csv\u001b[1;34m(filepath_or_buffer, sep, delimiter, header, names, index_col, usecols, squeeze, prefix, mangle_dupe_cols, dtype, engine, converters, true_values, false_values, skipinitialspace, skiprows, skipfooter, nrows, na_values, keep_default_na, na_filter, verbose, skip_blank_lines, parse_dates, infer_datetime_format, keep_date_col, date_parser, dayfirst, cache_dates, iterator, chunksize, compression, thousands, decimal, lineterminator, quotechar, quoting, doublequote, escapechar, comment, encoding, encoding_errors, dialect, error_bad_lines, warn_bad_lines, on_bad_lines, delim_whitespace, low_memory, memory_map, float_precision, storage_options)\u001b[0m\n\u001b[0;32m    665\u001b[0m kwds_defaults \u001b[38;5;241m=\u001b[39m _refine_defaults_read(\n\u001b[0;32m    666\u001b[0m     dialect,\n\u001b[0;32m    667\u001b[0m     delimiter,\n\u001b[1;32m   (...)\u001b[0m\n\u001b[0;32m    676\u001b[0m     defaults\u001b[38;5;241m=\u001b[39m{\u001b[38;5;124m\"\u001b[39m\u001b[38;5;124mdelimiter\u001b[39m\u001b[38;5;124m\"\u001b[39m: \u001b[38;5;124m\"\u001b[39m\u001b[38;5;124m,\u001b[39m\u001b[38;5;124m\"\u001b[39m},\n\u001b[0;32m    677\u001b[0m )\n\u001b[0;32m    678\u001b[0m kwds\u001b[38;5;241m.\u001b[39mupdate(kwds_defaults)\n\u001b[1;32m--> 680\u001b[0m \u001b[38;5;28;01mreturn\u001b[39;00m \u001b[43m_read\u001b[49m\u001b[43m(\u001b[49m\u001b[43mfilepath_or_buffer\u001b[49m\u001b[43m,\u001b[49m\u001b[43m \u001b[49m\u001b[43mkwds\u001b[49m\u001b[43m)\u001b[49m\n",
      "File \u001b[1;32m~\\AppData\\Local\\Programs\\Python\\Python310\\lib\\site-packages\\pandas\\io\\parsers\\readers.py:575\u001b[0m, in \u001b[0;36m_read\u001b[1;34m(filepath_or_buffer, kwds)\u001b[0m\n\u001b[0;32m    572\u001b[0m _validate_names(kwds\u001b[38;5;241m.\u001b[39mget(\u001b[38;5;124m\"\u001b[39m\u001b[38;5;124mnames\u001b[39m\u001b[38;5;124m\"\u001b[39m, \u001b[38;5;28;01mNone\u001b[39;00m))\n\u001b[0;32m    574\u001b[0m \u001b[38;5;66;03m# Create the parser.\u001b[39;00m\n\u001b[1;32m--> 575\u001b[0m parser \u001b[38;5;241m=\u001b[39m TextFileReader(filepath_or_buffer, \u001b[38;5;241m*\u001b[39m\u001b[38;5;241m*\u001b[39mkwds)\n\u001b[0;32m    577\u001b[0m \u001b[38;5;28;01mif\u001b[39;00m chunksize \u001b[38;5;129;01mor\u001b[39;00m iterator:\n\u001b[0;32m    578\u001b[0m     \u001b[38;5;28;01mreturn\u001b[39;00m parser\n",
      "File \u001b[1;32m~\\AppData\\Local\\Programs\\Python\\Python310\\lib\\site-packages\\pandas\\io\\parsers\\readers.py:934\u001b[0m, in \u001b[0;36mTextFileReader.__init__\u001b[1;34m(self, f, engine, **kwds)\u001b[0m\n\u001b[0;32m    931\u001b[0m     \u001b[38;5;28mself\u001b[39m\u001b[38;5;241m.\u001b[39moptions[\u001b[38;5;124m\"\u001b[39m\u001b[38;5;124mhas_index_names\u001b[39m\u001b[38;5;124m\"\u001b[39m] \u001b[38;5;241m=\u001b[39m kwds[\u001b[38;5;124m\"\u001b[39m\u001b[38;5;124mhas_index_names\u001b[39m\u001b[38;5;124m\"\u001b[39m]\n\u001b[0;32m    933\u001b[0m \u001b[38;5;28mself\u001b[39m\u001b[38;5;241m.\u001b[39mhandles: IOHandles \u001b[38;5;241m|\u001b[39m \u001b[38;5;28;01mNone\u001b[39;00m \u001b[38;5;241m=\u001b[39m \u001b[38;5;28;01mNone\u001b[39;00m\n\u001b[1;32m--> 934\u001b[0m \u001b[38;5;28mself\u001b[39m\u001b[38;5;241m.\u001b[39m_engine \u001b[38;5;241m=\u001b[39m \u001b[38;5;28;43mself\u001b[39;49m\u001b[38;5;241;43m.\u001b[39;49m\u001b[43m_make_engine\u001b[49m\u001b[43m(\u001b[49m\u001b[43mf\u001b[49m\u001b[43m,\u001b[49m\u001b[43m \u001b[49m\u001b[38;5;28;43mself\u001b[39;49m\u001b[38;5;241;43m.\u001b[39;49m\u001b[43mengine\u001b[49m\u001b[43m)\u001b[49m\n",
      "File \u001b[1;32m~\\AppData\\Local\\Programs\\Python\\Python310\\lib\\site-packages\\pandas\\io\\parsers\\readers.py:1218\u001b[0m, in \u001b[0;36mTextFileReader._make_engine\u001b[1;34m(self, f, engine)\u001b[0m\n\u001b[0;32m   1214\u001b[0m     mode \u001b[38;5;241m=\u001b[39m \u001b[38;5;124m\"\u001b[39m\u001b[38;5;124mrb\u001b[39m\u001b[38;5;124m\"\u001b[39m\n\u001b[0;32m   1215\u001b[0m \u001b[38;5;66;03m# error: No overload variant of \"get_handle\" matches argument types\u001b[39;00m\n\u001b[0;32m   1216\u001b[0m \u001b[38;5;66;03m# \"Union[str, PathLike[str], ReadCsvBuffer[bytes], ReadCsvBuffer[str]]\"\u001b[39;00m\n\u001b[0;32m   1217\u001b[0m \u001b[38;5;66;03m# , \"str\", \"bool\", \"Any\", \"Any\", \"Any\", \"Any\", \"Any\"\u001b[39;00m\n\u001b[1;32m-> 1218\u001b[0m \u001b[38;5;28mself\u001b[39m\u001b[38;5;241m.\u001b[39mhandles \u001b[38;5;241m=\u001b[39m \u001b[43mget_handle\u001b[49m\u001b[43m(\u001b[49m\u001b[43m  \u001b[49m\u001b[38;5;66;43;03m# type: ignore[call-overload]\u001b[39;49;00m\n\u001b[0;32m   1219\u001b[0m \u001b[43m    \u001b[49m\u001b[43mf\u001b[49m\u001b[43m,\u001b[49m\n\u001b[0;32m   1220\u001b[0m \u001b[43m    \u001b[49m\u001b[43mmode\u001b[49m\u001b[43m,\u001b[49m\n\u001b[0;32m   1221\u001b[0m \u001b[43m    \u001b[49m\u001b[43mencoding\u001b[49m\u001b[38;5;241;43m=\u001b[39;49m\u001b[38;5;28;43mself\u001b[39;49m\u001b[38;5;241;43m.\u001b[39;49m\u001b[43moptions\u001b[49m\u001b[38;5;241;43m.\u001b[39;49m\u001b[43mget\u001b[49m\u001b[43m(\u001b[49m\u001b[38;5;124;43m\"\u001b[39;49m\u001b[38;5;124;43mencoding\u001b[39;49m\u001b[38;5;124;43m\"\u001b[39;49m\u001b[43m,\u001b[49m\u001b[43m \u001b[49m\u001b[38;5;28;43;01mNone\u001b[39;49;00m\u001b[43m)\u001b[49m\u001b[43m,\u001b[49m\n\u001b[0;32m   1222\u001b[0m \u001b[43m    \u001b[49m\u001b[43mcompression\u001b[49m\u001b[38;5;241;43m=\u001b[39;49m\u001b[38;5;28;43mself\u001b[39;49m\u001b[38;5;241;43m.\u001b[39;49m\u001b[43moptions\u001b[49m\u001b[38;5;241;43m.\u001b[39;49m\u001b[43mget\u001b[49m\u001b[43m(\u001b[49m\u001b[38;5;124;43m\"\u001b[39;49m\u001b[38;5;124;43mcompression\u001b[39;49m\u001b[38;5;124;43m\"\u001b[39;49m\u001b[43m,\u001b[49m\u001b[43m \u001b[49m\u001b[38;5;28;43;01mNone\u001b[39;49;00m\u001b[43m)\u001b[49m\u001b[43m,\u001b[49m\n\u001b[0;32m   1223\u001b[0m \u001b[43m    \u001b[49m\u001b[43mmemory_map\u001b[49m\u001b[38;5;241;43m=\u001b[39;49m\u001b[38;5;28;43mself\u001b[39;49m\u001b[38;5;241;43m.\u001b[39;49m\u001b[43moptions\u001b[49m\u001b[38;5;241;43m.\u001b[39;49m\u001b[43mget\u001b[49m\u001b[43m(\u001b[49m\u001b[38;5;124;43m\"\u001b[39;49m\u001b[38;5;124;43mmemory_map\u001b[39;49m\u001b[38;5;124;43m\"\u001b[39;49m\u001b[43m,\u001b[49m\u001b[43m \u001b[49m\u001b[38;5;28;43;01mFalse\u001b[39;49;00m\u001b[43m)\u001b[49m\u001b[43m,\u001b[49m\n\u001b[0;32m   1224\u001b[0m \u001b[43m    \u001b[49m\u001b[43mis_text\u001b[49m\u001b[38;5;241;43m=\u001b[39;49m\u001b[43mis_text\u001b[49m\u001b[43m,\u001b[49m\n\u001b[0;32m   1225\u001b[0m \u001b[43m    \u001b[49m\u001b[43merrors\u001b[49m\u001b[38;5;241;43m=\u001b[39;49m\u001b[38;5;28;43mself\u001b[39;49m\u001b[38;5;241;43m.\u001b[39;49m\u001b[43moptions\u001b[49m\u001b[38;5;241;43m.\u001b[39;49m\u001b[43mget\u001b[49m\u001b[43m(\u001b[49m\u001b[38;5;124;43m\"\u001b[39;49m\u001b[38;5;124;43mencoding_errors\u001b[39;49m\u001b[38;5;124;43m\"\u001b[39;49m\u001b[43m,\u001b[49m\u001b[43m \u001b[49m\u001b[38;5;124;43m\"\u001b[39;49m\u001b[38;5;124;43mstrict\u001b[39;49m\u001b[38;5;124;43m\"\u001b[39;49m\u001b[43m)\u001b[49m\u001b[43m,\u001b[49m\n\u001b[0;32m   1226\u001b[0m \u001b[43m    \u001b[49m\u001b[43mstorage_options\u001b[49m\u001b[38;5;241;43m=\u001b[39;49m\u001b[38;5;28;43mself\u001b[39;49m\u001b[38;5;241;43m.\u001b[39;49m\u001b[43moptions\u001b[49m\u001b[38;5;241;43m.\u001b[39;49m\u001b[43mget\u001b[49m\u001b[43m(\u001b[49m\u001b[38;5;124;43m\"\u001b[39;49m\u001b[38;5;124;43mstorage_options\u001b[39;49m\u001b[38;5;124;43m\"\u001b[39;49m\u001b[43m,\u001b[49m\u001b[43m \u001b[49m\u001b[38;5;28;43;01mNone\u001b[39;49;00m\u001b[43m)\u001b[49m\u001b[43m,\u001b[49m\n\u001b[0;32m   1227\u001b[0m \u001b[43m\u001b[49m\u001b[43m)\u001b[49m\n\u001b[0;32m   1228\u001b[0m \u001b[38;5;28;01massert\u001b[39;00m \u001b[38;5;28mself\u001b[39m\u001b[38;5;241m.\u001b[39mhandles \u001b[38;5;129;01mis\u001b[39;00m \u001b[38;5;129;01mnot\u001b[39;00m \u001b[38;5;28;01mNone\u001b[39;00m\n\u001b[0;32m   1229\u001b[0m f \u001b[38;5;241m=\u001b[39m \u001b[38;5;28mself\u001b[39m\u001b[38;5;241m.\u001b[39mhandles\u001b[38;5;241m.\u001b[39mhandle\n",
      "File \u001b[1;32m~\\AppData\\Local\\Programs\\Python\\Python310\\lib\\site-packages\\pandas\\io\\common.py:786\u001b[0m, in \u001b[0;36mget_handle\u001b[1;34m(path_or_buf, mode, encoding, compression, memory_map, is_text, errors, storage_options)\u001b[0m\n\u001b[0;32m    781\u001b[0m \u001b[38;5;28;01melif\u001b[39;00m \u001b[38;5;28misinstance\u001b[39m(handle, \u001b[38;5;28mstr\u001b[39m):\n\u001b[0;32m    782\u001b[0m     \u001b[38;5;66;03m# Check whether the filename is to be opened in binary mode.\u001b[39;00m\n\u001b[0;32m    783\u001b[0m     \u001b[38;5;66;03m# Binary mode does not support 'encoding' and 'newline'.\u001b[39;00m\n\u001b[0;32m    784\u001b[0m     \u001b[38;5;28;01mif\u001b[39;00m ioargs\u001b[38;5;241m.\u001b[39mencoding \u001b[38;5;129;01mand\u001b[39;00m \u001b[38;5;124m\"\u001b[39m\u001b[38;5;124mb\u001b[39m\u001b[38;5;124m\"\u001b[39m \u001b[38;5;129;01mnot\u001b[39;00m \u001b[38;5;129;01min\u001b[39;00m ioargs\u001b[38;5;241m.\u001b[39mmode:\n\u001b[0;32m    785\u001b[0m         \u001b[38;5;66;03m# Encoding\u001b[39;00m\n\u001b[1;32m--> 786\u001b[0m         handle \u001b[38;5;241m=\u001b[39m \u001b[38;5;28;43mopen\u001b[39;49m\u001b[43m(\u001b[49m\n\u001b[0;32m    787\u001b[0m \u001b[43m            \u001b[49m\u001b[43mhandle\u001b[49m\u001b[43m,\u001b[49m\n\u001b[0;32m    788\u001b[0m \u001b[43m            \u001b[49m\u001b[43mioargs\u001b[49m\u001b[38;5;241;43m.\u001b[39;49m\u001b[43mmode\u001b[49m\u001b[43m,\u001b[49m\n\u001b[0;32m    789\u001b[0m \u001b[43m            \u001b[49m\u001b[43mencoding\u001b[49m\u001b[38;5;241;43m=\u001b[39;49m\u001b[43mioargs\u001b[49m\u001b[38;5;241;43m.\u001b[39;49m\u001b[43mencoding\u001b[49m\u001b[43m,\u001b[49m\n\u001b[0;32m    790\u001b[0m \u001b[43m            \u001b[49m\u001b[43merrors\u001b[49m\u001b[38;5;241;43m=\u001b[39;49m\u001b[43merrors\u001b[49m\u001b[43m,\u001b[49m\n\u001b[0;32m    791\u001b[0m \u001b[43m            \u001b[49m\u001b[43mnewline\u001b[49m\u001b[38;5;241;43m=\u001b[39;49m\u001b[38;5;124;43m\"\u001b[39;49m\u001b[38;5;124;43m\"\u001b[39;49m\u001b[43m,\u001b[49m\n\u001b[0;32m    792\u001b[0m \u001b[43m        \u001b[49m\u001b[43m)\u001b[49m\n\u001b[0;32m    793\u001b[0m     \u001b[38;5;28;01melse\u001b[39;00m:\n\u001b[0;32m    794\u001b[0m         \u001b[38;5;66;03m# Binary mode\u001b[39;00m\n\u001b[0;32m    795\u001b[0m         handle \u001b[38;5;241m=\u001b[39m \u001b[38;5;28mopen\u001b[39m(handle, ioargs\u001b[38;5;241m.\u001b[39mmode)\n",
      "\u001b[1;31mFileNotFoundError\u001b[0m: [Errno 2] No such file or directory: 'labeled_tweets_varian covid yang membahayakan.csv'"
     ]
    }
   ],
   "source": [
    "data1 = pd.read_csv('nlabeled_tweets_12 persen.csv')\n",
    "data2 = pd.read_csv('nlabeled_tweets_biang.csv')\n",
    "data3 = pd.read_csv('nlabeled_tweets_bill gates pencipta virus.csv')\n",
    "data4 = pd.read_csv('nlabeled_tweets_bisnis vaksin.csv')\n",
    "data5 = pd.read_csv('nlabeled_tweets_depopulasi.csv')\n",
    "data6 = pd.read_csv('nlabeled_tweets_kopi atasi omicron.csv')\n",
    "data7 = pd.read_csv('nlabeled_tweets_luciferase.csv')\n",
    "data8 = pd.read_csv('nlabeled_tweets_nasi kucing.csv')\n",
    "data9 = pd.read_csv('nlabeled_tweets_omicron tidak mematikan.csv')\n",
    "data10 = pd.read_csv('nlabeled_tweets_pandemi sudah berakhir.csv')\n",
    "data11 = pd.read_csv('nlabeled_tweets_vaksin mencegah covid.csv')\n",
    "data12 = pd.read_csv('nlabeled_tweets_vaksin menyebabkan kematian.csv')\n",
    "data13 = pd.read_csv('nlabeled_tweets_varian delmicron.csv')\n",
    "data14 = pd.read_csv('nlabeled_tweets_virus corona menyebar lewat hp.csv')\n",
    "data15 = pd.read_csv('labeled_tweets_covid berasal dari china.csv')\n",
    "data16 = pd.read_csv('labeled_tweets_covid merupakan penyakit menular melalui pernapasan.csv')\n",
    "data17 = pd.read_csv('labeled_tweets_covid-19 menyebabkan kematian.csv')\n",
    "data18 = pd.read_csv('labeled_tweets_kasus covid menurun.csv')\n",
    "data19 = pd.read_csv('labeled_tweets_kasus covid sudah membaik.csv')\n",
    "data20 = pd.read_csv('labeled_tweets_kasus terkonfirmasi positif.csv')\n",
    "data21 = pd.read_csv('labeled_tweets_masker kompas.csv')\n",
    "data22 = pd.read_csv('labeled_tweets_masker lip6.csv')\n",
    "data23 = pd.read_csv('labeled_tweets_varian covid yang membahayakan.csv.csv')\n",
    "data24 = pd.read_csv('labeled_tweets_pelanggaran protokol kesehatan.csv')\n",
    "data25 = pd.read_csv('labeled_tweets_pembatasan sosial berskala besar.csv')\n",
    "data26 = pd.read_csv('labeled_tweets_psbb komp.csv')\n",
    "data27 = pd.read_csv('labeled_tweets_psbb lip6.csv')\n",
    "data28 = pd.read_csv('labeled_tweets_tes rapid sudah tidak diperlukan.csv')\n",
    "data29 = pd.read_csv('labeled_tweets_vaksin booster untuk perjalanan.csv')\n",
    "data30 = pd.read_csv('labeled_tweets_vaksin tidak wajib dilakukan.csv')\n",
    "data31 = pd.read_csv('labeled_tweets_vaksin meminimalisir covid.csv')"
   ]
  },
  {
   "cell_type": "code",
   "execution_count": null,
   "id": "b55b5e53-5191-46ec-af1f-b1358a67c89e",
   "metadata": {},
   "outputs": [],
   "source": [
    "data1.drop(data1[data1['Label'] == 1].index, inplace = True)\n",
    "data1"
   ]
  },
  {
   "cell_type": "code",
   "execution_count": null,
   "id": "6e010da2-d23b-492b-9c88-1d7db50ee435",
   "metadata": {},
   "outputs": [],
   "source": [
    "data2.drop(data2[data2['Label'] == 1].index, inplace = True)\n",
    "data2"
   ]
  },
  {
   "cell_type": "code",
   "execution_count": null,
   "id": "010ed7f3",
   "metadata": {},
   "outputs": [],
   "source": [
    "data3.drop(data3[data3['Label'] == 1].index, inplace = True)\n",
    "data3"
   ]
  },
  {
   "cell_type": "code",
   "execution_count": null,
   "id": "fe4eec42",
   "metadata": {},
   "outputs": [],
   "source": [
    "data4.drop(data4[data4['Label'] == 1].index, inplace = True)\n",
    "data4"
   ]
  },
  {
   "cell_type": "code",
   "execution_count": null,
   "id": "dc6d365a",
   "metadata": {},
   "outputs": [],
   "source": [
    "data5.drop(data5[data5['Label'] == 1].index, inplace = True)\n",
    "data5"
   ]
  },
  {
   "cell_type": "code",
   "execution_count": null,
   "id": "91d9a0ab",
   "metadata": {},
   "outputs": [],
   "source": [
    "data6.drop(data6[data6['Label'] == 1].index, inplace = True)\n",
    "data6"
   ]
  },
  {
   "cell_type": "code",
   "execution_count": null,
   "id": "e3b83739",
   "metadata": {},
   "outputs": [],
   "source": [
    "data7.drop(data7[data7['Label'] == 1].index, inplace = True)\n",
    "data7"
   ]
  },
  {
   "cell_type": "code",
   "execution_count": null,
   "id": "8bf3e03c",
   "metadata": {},
   "outputs": [],
   "source": [
    "data8.drop(data8[data8['Label'] == 1].index, inplace = True)\n",
    "data8"
   ]
  },
  {
   "cell_type": "code",
   "execution_count": null,
   "id": "e8b4f558",
   "metadata": {},
   "outputs": [],
   "source": [
    "data9.drop(data9[data9['Label'] == 1].index, inplace = True)\n",
    "data9"
   ]
  },
  {
   "cell_type": "code",
   "execution_count": null,
   "id": "7c54e206",
   "metadata": {},
   "outputs": [],
   "source": [
    "data10.drop(data10[data10['Label'] == 1].index, inplace = True)\n",
    "data10"
   ]
  },
  {
   "cell_type": "code",
   "execution_count": null,
   "id": "b7f04e2d",
   "metadata": {},
   "outputs": [],
   "source": [
    "data11.drop(data11[data11['Label'] == 1].index, inplace = True)\n",
    "data11"
   ]
  },
  {
   "cell_type": "code",
   "execution_count": null,
   "id": "1d174cdb",
   "metadata": {},
   "outputs": [],
   "source": [
    "data12.drop(data12[data12['Label'] == 1].index, inplace = True)\n",
    "data12"
   ]
  },
  {
   "cell_type": "code",
   "execution_count": null,
   "id": "f6f6a8b4",
   "metadata": {},
   "outputs": [],
   "source": [
    "data13.drop(data13[data13['Label'] == 1].index, inplace = True)\n",
    "data13"
   ]
  },
  {
   "cell_type": "code",
   "execution_count": null,
   "id": "7fb88108",
   "metadata": {},
   "outputs": [],
   "source": [
    "data13.drop(data13[data13['Label'] == 1].index, inplace = True)\n",
    "data13"
   ]
  },
  {
   "cell_type": "code",
   "execution_count": null,
   "id": "413f2dcc",
   "metadata": {},
   "outputs": [],
   "source": [
    "data14.drop(data14[data14['Label'] == 1].index, inplace = True)\n",
    "data14"
   ]
  },
  {
   "cell_type": "code",
   "execution_count": null,
   "id": "b92c018f",
   "metadata": {},
   "outputs": [],
   "source": [
    "data15.drop(data15[data15['Label'] == 1].index, inplace = True)\n",
    "data15"
   ]
  },
  {
   "cell_type": "code",
   "execution_count": null,
   "id": "903118a0",
   "metadata": {},
   "outputs": [],
   "source": [
    "data16.drop(data16[data16['Label'] == 1].index, inplace = True)\n",
    "data16"
   ]
  },
  {
   "cell_type": "code",
   "execution_count": null,
   "id": "9b181fe4",
   "metadata": {},
   "outputs": [],
   "source": [
    "data17.drop(data17[data17['Label'] == 1].index, inplace = True)\n",
    "data17"
   ]
  },
  {
   "cell_type": "code",
   "execution_count": null,
   "id": "f4e84ceb",
   "metadata": {},
   "outputs": [],
   "source": [
    "data18.drop(data18[data18['Label'] == 1].index, inplace = True)\n",
    "data18"
   ]
  },
  {
   "cell_type": "code",
   "execution_count": null,
   "id": "a0a4fb11",
   "metadata": {},
   "outputs": [],
   "source": [
    "data19.drop(data19[data19['Label'] == 1].index, inplace = True)\n",
    "data19"
   ]
  },
  {
   "cell_type": "code",
   "execution_count": null,
   "id": "8da9093a",
   "metadata": {},
   "outputs": [],
   "source": [
    "data20.drop(data20[data20['Label'] == 1].index, inplace = True)\n",
    "data20"
   ]
  },
  {
   "cell_type": "code",
   "execution_count": null,
   "id": "c23368f1",
   "metadata": {},
   "outputs": [],
   "source": [
    "data21.drop(data21[data21['Label'] == 1].index, inplace = True)\n",
    "data21"
   ]
  },
  {
   "cell_type": "code",
   "execution_count": null,
   "id": "054bf40a",
   "metadata": {},
   "outputs": [],
   "source": [
    "data22.drop(data22[data22['Label'] == 1].index, inplace = True)\n",
    "data22"
   ]
  },
  {
   "cell_type": "code",
   "execution_count": null,
   "id": "6ee0405b",
   "metadata": {},
   "outputs": [],
   "source": [
    "data23.drop(data23[data23['Label'] == 1].index, inplace = True)\n",
    "data23"
   ]
  },
  {
   "cell_type": "code",
   "execution_count": null,
   "id": "0fe37739",
   "metadata": {},
   "outputs": [],
   "source": [
    "data24.drop(data24[data24['Label'] == 1].index, inplace = True)\n",
    "data24"
   ]
  },
  {
   "cell_type": "code",
   "execution_count": null,
   "id": "b9577a42",
   "metadata": {},
   "outputs": [],
   "source": [
    "data25.drop(data25[data25['Label'] == 1].index, inplace = True)\n",
    "data25"
   ]
  },
  {
   "cell_type": "code",
   "execution_count": null,
   "id": "f236e34a",
   "metadata": {},
   "outputs": [],
   "source": [
    "data26.drop(data26[data26['Label'] == 1].index, inplace = True)\n",
    "data26"
   ]
  },
  {
   "cell_type": "code",
   "execution_count": null,
   "id": "588d674e",
   "metadata": {},
   "outputs": [],
   "source": [
    "data27.drop(data27[data27['Label'] == 1].index, inplace = True)\n",
    "data27"
   ]
  },
  {
   "cell_type": "code",
   "execution_count": null,
   "id": "bf6fce99",
   "metadata": {},
   "outputs": [],
   "source": [
    "data28.drop(data28[data28['Label'] == 1].index, inplace = True)\n",
    "data28"
   ]
  },
  {
   "cell_type": "code",
   "execution_count": null,
   "id": "e418f50c",
   "metadata": {},
   "outputs": [],
   "source": [
    "data29.drop(data29[data29['Label'] == 1].index, inplace = True)\n",
    "data29"
   ]
  },
  {
   "cell_type": "code",
   "execution_count": null,
   "id": "e4543a2e",
   "metadata": {},
   "outputs": [],
   "source": [
    "data30.drop(data30[data30['Label'] == 1].index, inplace = True)\n",
    "data30"
   ]
  },
  {
   "cell_type": "code",
   "execution_count": null,
   "id": "d7296088",
   "metadata": {},
   "outputs": [],
   "source": [
    "data31.drop(data31[data31['Label'] == 1].index, inplace = True)\n",
    "data31"
   ]
  },
  {
   "cell_type": "code",
   "execution_count": null,
   "id": "2f52f4e1-a7dd-4ab7-b29b-424b9d1aeb28",
   "metadata": {
    "scrolled": true
   },
   "outputs": [],
   "source": [
    "frames = [data1, data2, data3, data4, data5, data6, data7, data8, data9, data10,\n",
    "         data11, data12, data13, data14, data15, data16, data17, data18, data19, data20,\n",
    "         data21, data22, data23, data24, data25, data26, data27, data28, data29, data30,\n",
    "         data31]\n",
    "result = pd.concat(frames).drop_duplicates().reset_index(drop=True)\n",
    "result"
   ]
  },
  {
   "cell_type": "code",
   "execution_count": null,
   "id": "950c8818-2402-433d-911b-7cd740284acd",
   "metadata": {},
   "outputs": [],
   "source": [
    "label = []\n",
    "for index, row in result.iterrows():\n",
    "    if row['Label'] == 1:\n",
    "        label.append('FAKTA')\n",
    "    else:\n",
    "        label.append('HOAKS')\n",
    "result['Label'] = label\n",
    "result"
   ]
  },
  {
   "cell_type": "code",
   "execution_count": null,
   "id": "6028b637-8ad9-4fd9-a1ff-06e95448cecc",
   "metadata": {},
   "outputs": [],
   "source": [
    "result.to_csv(\"fake_dataset.csv\", index=False)"
   ]
  },
  {
   "cell_type": "code",
   "execution_count": null,
   "id": "d87b2213-270c-49f8-b2e1-56b608a94503",
   "metadata": {},
   "outputs": [],
   "source": []
  }
 ],
 "metadata": {
  "kernelspec": {
   "display_name": "Python 3 (ipykernel)",
   "language": "python",
   "name": "python3"
  },
  "language_info": {
   "codemirror_mode": {
    "name": "ipython",
    "version": 3
   },
   "file_extension": ".py",
   "mimetype": "text/x-python",
   "name": "python",
   "nbconvert_exporter": "python",
   "pygments_lexer": "ipython3",
   "version": "3.10.5"
  }
 },
 "nbformat": 4,
 "nbformat_minor": 5
}

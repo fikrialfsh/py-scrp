{
 "cells": [
  {
   "cell_type": "code",
   "execution_count": 5,
   "id": "db2498b1-ed1f-4a65-a37e-c8ccbb33b67a",
   "metadata": {},
   "outputs": [],
   "source": [
    "import pandas as pd\n",
    "import nltk\n",
    "\n",
    "from nltk.tokenize import word_tokenize"
   ]
  },
  {
   "cell_type": "code",
   "execution_count": null,
   "id": "15acfe33-9a08-4b30-bded-7b8f70d1ceca",
   "metadata": {
    "scrolled": true
   },
   "outputs": [],
   "source": [
    "imp = input('Enter File Name:') #cleaned_tweet\n",
    "\n",
    "df = pd.read_csv('cleaned_tweets_' + imp + '.csv')\n",
    "df.head()"
   ]
  },
  {
   "cell_type": "code",
   "execution_count": null,
   "id": "2e4ee5bb-2041-42c4-a485-cc5a9aecff8a",
   "metadata": {},
   "outputs": [],
   "source": [
    "kwd = input('Input Keyword: ') #keyword\n",
    "print(kwd)\n",
    "\n",
    "label = []\n",
    "for index, row in df.iterrows():\n",
    "    if kwd in row['tweet']:\n",
    "        label.append(0)\n",
    "    else:\n",
    "        label.append(1)\n",
    "df['Label'] = label\n",
    "df"
   ]
  },
  {
   "cell_type": "code",
   "execution_count": null,
   "id": "cf018abc-e927-4ab2-ab2e-efc162aa167c",
   "metadata": {},
   "outputs": [],
   "source": [
    "export = input('Enter File Name:') #labeled_tweet\n",
    "\n",
    "df.to_csv(\"labeled_tweets_\" + export + \".csv\", index=False)"
   ]
  },
  {
   "cell_type": "code",
   "execution_count": null,
   "id": "140c0fca",
   "metadata": {},
   "outputs": [],
   "source": []
  }
 ],
 "metadata": {
  "kernelspec": {
   "display_name": "Python 3 (ipykernel)",
   "language": "python",
   "name": "python3"
  },
  "language_info": {
   "codemirror_mode": {
    "name": "ipython",
    "version": 3
   },
   "file_extension": ".py",
   "mimetype": "text/x-python",
   "name": "python",
   "nbconvert_exporter": "python",
   "pygments_lexer": "ipython3",
   "version": "3.10.5"
  }
 },
 "nbformat": 4,
 "nbformat_minor": 5
}

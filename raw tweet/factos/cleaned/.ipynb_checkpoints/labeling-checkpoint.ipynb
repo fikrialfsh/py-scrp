{
 "cells": [
  {
   "cell_type": "code",
   "execution_count": 14,
   "id": "db2498b1-ed1f-4a65-a37e-c8ccbb33b67a",
   "metadata": {},
   "outputs": [],
   "source": [
    "import pandas as pd\n",
    "import nltk\n",
    "\n",
    "from nltk.tokenize import word_tokenize"
   ]
  },
  {
   "cell_type": "code",
   "execution_count": 15,
   "id": "15acfe33-9a08-4b30-bded-7b8f70d1ceca",
   "metadata": {
    "scrolled": true
   },
   "outputs": [
    {
     "name": "stdout",
     "output_type": "stream",
     "text": [
      "Enter File Name:kasus covid menurun\n"
     ]
    },
    {
     "data": {
      "text/html": [
       "<div>\n",
       "<style scoped>\n",
       "    .dataframe tbody tr th:only-of-type {\n",
       "        vertical-align: middle;\n",
       "    }\n",
       "\n",
       "    .dataframe tbody tr th {\n",
       "        vertical-align: top;\n",
       "    }\n",
       "\n",
       "    .dataframe thead th {\n",
       "        text-align: right;\n",
       "    }\n",
       "</style>\n",
       "<table border=\"1\" class=\"dataframe\">\n",
       "  <thead>\n",
       "    <tr style=\"text-align: right;\">\n",
       "      <th></th>\n",
       "      <th>created_at</th>\n",
       "      <th>date</th>\n",
       "      <th>user_id</th>\n",
       "      <th>username</th>\n",
       "      <th>name</th>\n",
       "      <th>tweet</th>\n",
       "      <th>link</th>\n",
       "      <th>tweet_preproc</th>\n",
       "    </tr>\n",
       "  </thead>\n",
       "  <tbody>\n",
       "    <tr>\n",
       "      <th>0</th>\n",
       "      <td>1.656633e+12</td>\n",
       "      <td>2022-07-01 06:54:14</td>\n",
       "      <td>1386763327527800832</td>\n",
       "      <td>atiduduwesi</td>\n",
       "      <td>Sepele</td>\n",
       "      <td>kasus covid semakin menurun memunculkan optimi...</td>\n",
       "      <td>https://twitter.com/atiduduwesi/status/1542657...</td>\n",
       "      <td>['kasus', 'covid', 'makin', 'turun', 'muncul',...</td>\n",
       "    </tr>\n",
       "    <tr>\n",
       "      <th>1</th>\n",
       "      <td>1.656633e+12</td>\n",
       "      <td>2022-07-01 06:50:13</td>\n",
       "      <td>1488298069129297924</td>\n",
       "      <td>NoviRoose</td>\n",
       "      <td>Novi Roose</td>\n",
       "      <td>kasus covid semakin menurun memunculkan optimi...</td>\n",
       "      <td>https://twitter.com/NoviRoose/status/154265678...</td>\n",
       "      <td>['kasus', 'covid', 'makin', 'turun', 'muncul',...</td>\n",
       "    </tr>\n",
       "    <tr>\n",
       "      <th>2</th>\n",
       "      <td>1.656633e+12</td>\n",
       "      <td>2022-07-01 06:49:58</td>\n",
       "      <td>1479239414857408513</td>\n",
       "      <td>nvroost</td>\n",
       "      <td>Nvroost</td>\n",
       "      <td>kasus covid semakin menurun memunculkan optimi...</td>\n",
       "      <td>https://twitter.com/nvroost/status/15426567244...</td>\n",
       "      <td>['kasus', 'covid', 'makin', 'turun', 'muncul',...</td>\n",
       "    </tr>\n",
       "    <tr>\n",
       "      <th>3</th>\n",
       "      <td>1.656630e+12</td>\n",
       "      <td>2022-07-01 06:05:51</td>\n",
       "      <td>1479223936101470209</td>\n",
       "      <td>TremmorB</td>\n",
       "      <td>TremmorBanget</td>\n",
       "      <td>kasus covid yang semakin menurun memunculkan o...</td>\n",
       "      <td>https://twitter.com/TremmorB/status/1542645620...</td>\n",
       "      <td>['kasus', 'covid', 'yang', 'makin', 'turun', '...</td>\n",
       "    </tr>\n",
       "    <tr>\n",
       "      <th>4</th>\n",
       "      <td>1.656630e+12</td>\n",
       "      <td>2022-07-01 06:01:45</td>\n",
       "      <td>1510144662312402944</td>\n",
       "      <td>Arrayaa17</td>\n",
       "      <td>Arrayaa</td>\n",
       "      <td>angka kasus covid semakin menurun hal ini memu...</td>\n",
       "      <td>https://twitter.com/Arrayaa17/status/154264458...</td>\n",
       "      <td>['angka', 'kasus', 'covid', 'makin', 'turun', ...</td>\n",
       "    </tr>\n",
       "  </tbody>\n",
       "</table>\n",
       "</div>"
      ],
      "text/plain": [
       "     created_at                 date              user_id     username  \\\n",
       "0  1.656633e+12  2022-07-01 06:54:14  1386763327527800832  atiduduwesi   \n",
       "1  1.656633e+12  2022-07-01 06:50:13  1488298069129297924    NoviRoose   \n",
       "2  1.656633e+12  2022-07-01 06:49:58  1479239414857408513      nvroost   \n",
       "3  1.656630e+12  2022-07-01 06:05:51  1479223936101470209     TremmorB   \n",
       "4  1.656630e+12  2022-07-01 06:01:45  1510144662312402944    Arrayaa17   \n",
       "\n",
       "            name                                              tweet  \\\n",
       "0         Sepele  kasus covid semakin menurun memunculkan optimi...   \n",
       "1     Novi Roose  kasus covid semakin menurun memunculkan optimi...   \n",
       "2        Nvroost  kasus covid semakin menurun memunculkan optimi...   \n",
       "3  TremmorBanget  kasus covid yang semakin menurun memunculkan o...   \n",
       "4        Arrayaa  angka kasus covid semakin menurun hal ini memu...   \n",
       "\n",
       "                                                link  \\\n",
       "0  https://twitter.com/atiduduwesi/status/1542657...   \n",
       "1  https://twitter.com/NoviRoose/status/154265678...   \n",
       "2  https://twitter.com/nvroost/status/15426567244...   \n",
       "3  https://twitter.com/TremmorB/status/1542645620...   \n",
       "4  https://twitter.com/Arrayaa17/status/154264458...   \n",
       "\n",
       "                                       tweet_preproc  \n",
       "0  ['kasus', 'covid', 'makin', 'turun', 'muncul',...  \n",
       "1  ['kasus', 'covid', 'makin', 'turun', 'muncul',...  \n",
       "2  ['kasus', 'covid', 'makin', 'turun', 'muncul',...  \n",
       "3  ['kasus', 'covid', 'yang', 'makin', 'turun', '...  \n",
       "4  ['angka', 'kasus', 'covid', 'makin', 'turun', ...  "
      ]
     },
     "execution_count": 15,
     "metadata": {},
     "output_type": "execute_result"
    }
   ],
   "source": [
    "imp = input('Enter File Name:') #cleaned_tweet\n",
    "\n",
    "df = pd.read_csv('cleaned_tweets_' + imp + '.csv')\n",
    "df.head()"
   ]
  },
  {
   "cell_type": "code",
   "execution_count": null,
   "id": "2e4ee5bb-2041-42c4-a485-cc5a9aecff8a",
   "metadata": {},
   "outputs": [],
   "source": [
    "kwd = input('Input Keyword: ') #keyword\n",
    "print(kwd)\n",
    "\n",
    "label = []\n",
    "for index, row in df.iterrows():\n",
    "    if kwd in row['tweet']:\n",
    "        label.append(1)\n",
    "    else:\n",
    "        label.append(0)\n",
    "df['Label'] = label\n",
    "df"
   ]
  },
  {
   "cell_type": "code",
   "execution_count": null,
   "id": "cf018abc-e927-4ab2-ab2e-efc162aa167c",
   "metadata": {},
   "outputs": [],
   "source": [
    "export = input('Enter File Name:') #labeled_tweet\n",
    "\n",
    "df.to_csv(\"labeled_tweets_\" + export + \".csv\", index=False)"
   ]
  },
  {
   "cell_type": "code",
   "execution_count": null,
   "id": "140c0fca",
   "metadata": {},
   "outputs": [],
   "source": []
  }
 ],
 "metadata": {
  "kernelspec": {
   "display_name": "Python 3 (ipykernel)",
   "language": "python",
   "name": "python3"
  },
  "language_info": {
   "codemirror_mode": {
    "name": "ipython",
    "version": 3
   },
   "file_extension": ".py",
   "mimetype": "text/x-python",
   "name": "python",
   "nbconvert_exporter": "python",
   "pygments_lexer": "ipython3",
   "version": "3.10.5"
  }
 },
 "nbformat": 4,
 "nbformat_minor": 5
}

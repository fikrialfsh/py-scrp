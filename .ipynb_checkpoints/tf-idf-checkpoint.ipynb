{
 "cells": [
  {
   "cell_type": "code",
   "execution_count": 4,
   "id": "0d2241cc-8bfb-480b-832d-7cbcfbbfb1ab",
   "metadata": {},
   "outputs": [],
   "source": [
    "import numpy as np\n",
    "import pandas as pd\n",
    "from sklearn.feature_extraction.text import TfidfVectorizer"
   ]
  },
  {
   "cell_type": "code",
   "execution_count": 12,
   "id": "51003cf5-ab30-487d-99c9-527673b9bd1a",
   "metadata": {},
   "outputs": [
    {
     "name": "stdin",
     "output_type": "stream",
     "text": [
      "Enter File Name: bisnis vaksin\n"
     ]
    },
    {
     "data": {
      "text/html": [
       "<div>\n",
       "<style scoped>\n",
       "    .dataframe tbody tr th:only-of-type {\n",
       "        vertical-align: middle;\n",
       "    }\n",
       "\n",
       "    .dataframe tbody tr th {\n",
       "        vertical-align: top;\n",
       "    }\n",
       "\n",
       "    .dataframe thead th {\n",
       "        text-align: right;\n",
       "    }\n",
       "</style>\n",
       "<table border=\"1\" class=\"dataframe\">\n",
       "  <thead>\n",
       "    <tr style=\"text-align: right;\">\n",
       "      <th></th>\n",
       "      <th>created_at</th>\n",
       "      <th>date</th>\n",
       "      <th>user_id</th>\n",
       "      <th>username</th>\n",
       "      <th>name</th>\n",
       "      <th>tweet</th>\n",
       "      <th>link</th>\n",
       "      <th>POS tagged</th>\n",
       "      <th>Label</th>\n",
       "    </tr>\n",
       "  </thead>\n",
       "  <tbody>\n",
       "    <tr>\n",
       "      <th>0</th>\n",
       "      <td>1.653845e+12</td>\n",
       "      <td>2022-05-30 00:24:57</td>\n",
       "      <td>1109052544796352513</td>\n",
       "      <td>AsyiFahmi</td>\n",
       "      <td>Fahmi Al Asyi فهمي الأشي</td>\n",
       "      <td>vaksin itu bisnis dajjal</td>\n",
       "      <td>https://twitter.com/AsyiFahmi/status/153096341...</td>\n",
       "      <td>[('vaksin', 'n'), ('bisnis', 'n'), ('dajjal', ...</td>\n",
       "      <td>[1]</td>\n",
       "    </tr>\n",
       "    <tr>\n",
       "      <th>1</th>\n",
       "      <td>1.653843e+12</td>\n",
       "      <td>2022-05-29 23:54:54</td>\n",
       "      <td>1334033424668008450</td>\n",
       "      <td>Kimberley20101</td>\n",
       "      <td>Kimberley</td>\n",
       "      <td>ngeri dan geram  tapi rakyat tak bisa berbuat...</td>\n",
       "      <td>https://twitter.com/Kimberley20101/status/1530...</td>\n",
       "      <td>[('ngeri', None), ('geram', 'n'), ('rakyat', '...</td>\n",
       "      <td>[1]</td>\n",
       "    </tr>\n",
       "    <tr>\n",
       "      <th>2</th>\n",
       "      <td>1.653843e+12</td>\n",
       "      <td>2022-05-29 23:42:07</td>\n",
       "      <td>215839128</td>\n",
       "      <td>hendra_roestoe</td>\n",
       "      <td>HendraRoestoeMulyana</td>\n",
       "      <td>saya lebih percaya kpd dr  siti fadilah supari...</td>\n",
       "      <td>https://twitter.com/hendra_roestoe/status/1530...</td>\n",
       "      <td>[('percaya', 'n'), ('kpd', 'n'), ('dr', 'n'), ...</td>\n",
       "      <td>[0]</td>\n",
       "    </tr>\n",
       "    <tr>\n",
       "      <th>3</th>\n",
       "      <td>1.653836e+12</td>\n",
       "      <td>2022-05-29 21:53:13</td>\n",
       "      <td>1391273164731125760</td>\n",
       "      <td>FiinaDu</td>\n",
       "      <td>fina</td>\n",
       "      <td>bisnis ya  klo vaksin blm habis blm bisa bali...</td>\n",
       "      <td>https://twitter.com/FiinaDu/status/15309252351...</td>\n",
       "      <td>[('bisnis', 'n'), ('ya', None), ('klo', 'v'), ...</td>\n",
       "      <td>[1]</td>\n",
       "    </tr>\n",
       "    <tr>\n",
       "      <th>4</th>\n",
       "      <td>1.653822e+12</td>\n",
       "      <td>2022-05-29 18:07:34</td>\n",
       "      <td>606328025</td>\n",
       "      <td>kanitanafiza</td>\n",
       "      <td>💚Kanza💚🌄</td>\n",
       "      <td>rockefeller milyuner amerika terkenal semula j...</td>\n",
       "      <td>https://twitter.com/kanitanafiza/status/153086...</td>\n",
       "      <td>[('rockefeller', 'n'), ('milyuner', 'n'), ('am...</td>\n",
       "      <td>[1]</td>\n",
       "    </tr>\n",
       "  </tbody>\n",
       "</table>\n",
       "</div>"
      ],
      "text/plain": [
       "     created_at                 date              user_id        username  \\\n",
       "0  1.653845e+12  2022-05-30 00:24:57  1109052544796352513       AsyiFahmi   \n",
       "1  1.653843e+12  2022-05-29 23:54:54  1334033424668008450  Kimberley20101   \n",
       "2  1.653843e+12  2022-05-29 23:42:07            215839128  hendra_roestoe   \n",
       "3  1.653836e+12  2022-05-29 21:53:13  1391273164731125760         FiinaDu   \n",
       "4  1.653822e+12  2022-05-29 18:07:34            606328025    kanitanafiza   \n",
       "\n",
       "                       name  \\\n",
       "0  Fahmi Al Asyi فهمي الأشي   \n",
       "1                 Kimberley   \n",
       "2      HendraRoestoeMulyana   \n",
       "3                      fina   \n",
       "4                  💚Kanza💚🌄   \n",
       "\n",
       "                                               tweet  \\\n",
       "0                           vaksin itu bisnis dajjal   \n",
       "1   ngeri dan geram  tapi rakyat tak bisa berbuat...   \n",
       "2  saya lebih percaya kpd dr  siti fadilah supari...   \n",
       "3   bisnis ya  klo vaksin blm habis blm bisa bali...   \n",
       "4  rockefeller milyuner amerika terkenal semula j...   \n",
       "\n",
       "                                                link  \\\n",
       "0  https://twitter.com/AsyiFahmi/status/153096341...   \n",
       "1  https://twitter.com/Kimberley20101/status/1530...   \n",
       "2  https://twitter.com/hendra_roestoe/status/1530...   \n",
       "3  https://twitter.com/FiinaDu/status/15309252351...   \n",
       "4  https://twitter.com/kanitanafiza/status/153086...   \n",
       "\n",
       "                                          POS tagged Label  \n",
       "0  [('vaksin', 'n'), ('bisnis', 'n'), ('dajjal', ...   [1]  \n",
       "1  [('ngeri', None), ('geram', 'n'), ('rakyat', '...   [1]  \n",
       "2  [('percaya', 'n'), ('kpd', 'n'), ('dr', 'n'), ...   [0]  \n",
       "3  [('bisnis', 'n'), ('ya', None), ('klo', 'v'), ...   [1]  \n",
       "4  [('rockefeller', 'n'), ('milyuner', 'n'), ('am...   [1]  "
      ]
     },
     "execution_count": 12,
     "metadata": {},
     "output_type": "execute_result"
    }
   ],
   "source": [
    "imp = input('Enter File Name:') #cleaned_tweet\n",
    "\n",
    "df = pd.read_csv('labeled_tweets_' + imp + '.csv')\n",
    "df.head()"
   ]
  },
  {
   "cell_type": "code",
   "execution_count": 14,
   "id": "e42e04a5-f252-48ad-800f-7adbfa947bd9",
   "metadata": {},
   "outputs": [],
   "source": [
    "# df['tweet'].value_counts()"
   ]
  },
  {
   "cell_type": "code",
   "execution_count": 27,
   "id": "62534b72-f768-46a6-a3b1-8c0bcd4215f5",
   "metadata": {},
   "outputs": [
    {
     "data": {
      "text/html": [
       "<div>\n",
       "<style scoped>\n",
       "    .dataframe tbody tr th:only-of-type {\n",
       "        vertical-align: middle;\n",
       "    }\n",
       "\n",
       "    .dataframe tbody tr th {\n",
       "        vertical-align: top;\n",
       "    }\n",
       "\n",
       "    .dataframe thead th {\n",
       "        text-align: right;\n",
       "    }\n",
       "</style>\n",
       "<table border=\"1\" class=\"dataframe\">\n",
       "  <thead>\n",
       "    <tr style=\"text-align: right;\">\n",
       "      <th></th>\n",
       "      <th>created_at</th>\n",
       "      <th>date</th>\n",
       "      <th>user_id</th>\n",
       "      <th>username</th>\n",
       "      <th>name</th>\n",
       "      <th>tweet</th>\n",
       "      <th>link</th>\n",
       "      <th>POS tagged</th>\n",
       "      <th>Label</th>\n",
       "    </tr>\n",
       "  </thead>\n",
       "  <tbody>\n",
       "    <tr>\n",
       "      <th>0</th>\n",
       "      <td>1.653845e+12</td>\n",
       "      <td>2022-05-30 00:24:57</td>\n",
       "      <td>1109052544796352513</td>\n",
       "      <td>AsyiFahmi</td>\n",
       "      <td>Fahmi Al Asyi فهمي الأشي</td>\n",
       "      <td>vaksin itu bisnis dajjal</td>\n",
       "      <td>https://twitter.com/AsyiFahmi/status/153096341...</td>\n",
       "      <td>[('vaksin', 'n'), ('bisnis', 'n'), ('dajjal', ...</td>\n",
       "      <td>1</td>\n",
       "    </tr>\n",
       "    <tr>\n",
       "      <th>1</th>\n",
       "      <td>1.653843e+12</td>\n",
       "      <td>2022-05-29 23:54:54</td>\n",
       "      <td>1334033424668008450</td>\n",
       "      <td>Kimberley20101</td>\n",
       "      <td>Kimberley</td>\n",
       "      <td>ngeri dan geram  tapi rakyat tak bisa berbuat...</td>\n",
       "      <td>https://twitter.com/Kimberley20101/status/1530...</td>\n",
       "      <td>[('ngeri', None), ('geram', 'n'), ('rakyat', '...</td>\n",
       "      <td>1</td>\n",
       "    </tr>\n",
       "    <tr>\n",
       "      <th>2</th>\n",
       "      <td>1.653843e+12</td>\n",
       "      <td>2022-05-29 23:42:07</td>\n",
       "      <td>215839128</td>\n",
       "      <td>hendra_roestoe</td>\n",
       "      <td>HendraRoestoeMulyana</td>\n",
       "      <td>saya lebih percaya kpd dr  siti fadilah supari...</td>\n",
       "      <td>https://twitter.com/hendra_roestoe/status/1530...</td>\n",
       "      <td>[('percaya', 'n'), ('kpd', 'n'), ('dr', 'n'), ...</td>\n",
       "      <td>0</td>\n",
       "    </tr>\n",
       "    <tr>\n",
       "      <th>3</th>\n",
       "      <td>1.653836e+12</td>\n",
       "      <td>2022-05-29 21:53:13</td>\n",
       "      <td>1391273164731125760</td>\n",
       "      <td>FiinaDu</td>\n",
       "      <td>fina</td>\n",
       "      <td>bisnis ya  klo vaksin blm habis blm bisa bali...</td>\n",
       "      <td>https://twitter.com/FiinaDu/status/15309252351...</td>\n",
       "      <td>[('bisnis', 'n'), ('ya', None), ('klo', 'v'), ...</td>\n",
       "      <td>1</td>\n",
       "    </tr>\n",
       "    <tr>\n",
       "      <th>4</th>\n",
       "      <td>1.653822e+12</td>\n",
       "      <td>2022-05-29 18:07:34</td>\n",
       "      <td>606328025</td>\n",
       "      <td>kanitanafiza</td>\n",
       "      <td>💚Kanza💚🌄</td>\n",
       "      <td>rockefeller milyuner amerika terkenal semula j...</td>\n",
       "      <td>https://twitter.com/kanitanafiza/status/153086...</td>\n",
       "      <td>[('rockefeller', 'n'), ('milyuner', 'n'), ('am...</td>\n",
       "      <td>1</td>\n",
       "    </tr>\n",
       "  </tbody>\n",
       "</table>\n",
       "</div>"
      ],
      "text/plain": [
       "     created_at                 date              user_id        username  \\\n",
       "0  1.653845e+12  2022-05-30 00:24:57  1109052544796352513       AsyiFahmi   \n",
       "1  1.653843e+12  2022-05-29 23:54:54  1334033424668008450  Kimberley20101   \n",
       "2  1.653843e+12  2022-05-29 23:42:07            215839128  hendra_roestoe   \n",
       "3  1.653836e+12  2022-05-29 21:53:13  1391273164731125760         FiinaDu   \n",
       "4  1.653822e+12  2022-05-29 18:07:34            606328025    kanitanafiza   \n",
       "\n",
       "                       name  \\\n",
       "0  Fahmi Al Asyi فهمي الأشي   \n",
       "1                 Kimberley   \n",
       "2      HendraRoestoeMulyana   \n",
       "3                      fina   \n",
       "4                  💚Kanza💚🌄   \n",
       "\n",
       "                                               tweet  \\\n",
       "0                           vaksin itu bisnis dajjal   \n",
       "1   ngeri dan geram  tapi rakyat tak bisa berbuat...   \n",
       "2  saya lebih percaya kpd dr  siti fadilah supari...   \n",
       "3   bisnis ya  klo vaksin blm habis blm bisa bali...   \n",
       "4  rockefeller milyuner amerika terkenal semula j...   \n",
       "\n",
       "                                                link  \\\n",
       "0  https://twitter.com/AsyiFahmi/status/153096341...   \n",
       "1  https://twitter.com/Kimberley20101/status/1530...   \n",
       "2  https://twitter.com/hendra_roestoe/status/1530...   \n",
       "3  https://twitter.com/FiinaDu/status/15309252351...   \n",
       "4  https://twitter.com/kanitanafiza/status/153086...   \n",
       "\n",
       "                                          POS tagged  Label  \n",
       "0  [('vaksin', 'n'), ('bisnis', 'n'), ('dajjal', ...      1  \n",
       "1  [('ngeri', None), ('geram', 'n'), ('rakyat', '...      1  \n",
       "2  [('percaya', 'n'), ('kpd', 'n'), ('dr', 'n'), ...      0  \n",
       "3  [('bisnis', 'n'), ('ya', None), ('klo', 'v'), ...      1  \n",
       "4  [('rockefeller', 'n'), ('milyuner', 'n'), ('am...      1  "
      ]
     },
     "execution_count": 27,
     "metadata": {},
     "output_type": "execute_result"
    }
   ],
   "source": [
    "label = []\n",
    "for index, row in df.iterrows():\n",
    "    if 'bisnis vaksin' in row['tweet']:\n",
    "        label.append(0)\n",
    "    else:\n",
    "        label.append(1)\n",
    "\n",
    "df['Label'] = label\n",
    "df.head()"
   ]
  },
  {
   "cell_type": "code",
   "execution_count": 28,
   "id": "7107da42-3054-45df-adbb-0911b05c301e",
   "metadata": {},
   "outputs": [
    {
     "data": {
      "text/plain": [
       "1    11\n",
       "0     9\n",
       "Name: Label, dtype: int64"
      ]
     },
     "execution_count": 28,
     "metadata": {},
     "output_type": "execute_result"
    }
   ],
   "source": [
    "df['Label'].value_counts()"
   ]
  },
  {
   "cell_type": "code",
   "execution_count": null,
   "id": "9da1277a-9328-48f4-b966-6661ec445a79",
   "metadata": {},
   "outputs": [],
   "source": []
  },
  {
   "cell_type": "code",
   "execution_count": 22,
   "id": "724b4792-1146-44c3-9c5d-dd8c600cc542",
   "metadata": {},
   "outputs": [],
   "source": [
    "corpus = ['saya berangkat ke kampus untuk belajar',\n",
    "          'ibu pergi berbelanja ke pasar',\n",
    "          'ayah pergi ke kantor untuk bekerja']"
   ]
  },
  {
   "cell_type": "code",
   "execution_count": 23,
   "id": "b4e1d9ba-144f-4c8a-8766-bf195ddf9842",
   "metadata": {},
   "outputs": [
    {
     "name": "stdout",
     "output_type": "stream",
     "text": [
      "['ayah', 'bekerja', 'belajar', 'berangkat', 'berbelanja', 'ibu', 'kampus', 'kantor', 'ke', 'pasar', 'pergi', 'saya', 'untuk']\n"
     ]
    }
   ],
   "source": [
    "vectorizer = TfidfVectorizer(max_df=1.0, min_df=1, norm = None, smooth_idf=True)\n",
    "X = vectorizer.fit_transform(corpus)\n",
    "print(vectorizer.get_feature_names())"
   ]
  },
  {
   "cell_type": "code",
   "execution_count": 24,
   "id": "8e4b4ee9-9fe6-42ac-806a-2f837a39a986",
   "metadata": {},
   "outputs": [],
   "source": [
    "feature_names = vectorizer.get_feature_names()\n",
    "def tf_idf(text):\n",
    "    tfidf_matrix = vectorizer.transform([text]).todense()\n",
    "    feature_index = X[0,:].nonzero()[1]\n",
    "    skor = zip([feature_names[i] for i in feature_index], [X[0, x] for x in feature_index])\n",
    "    return dict(skor)"
   ]
  },
  {
   "cell_type": "code",
   "execution_count": null,
   "id": "3d594768-2b2d-4760-9ce8-695be5a8efe8",
   "metadata": {},
   "outputs": [
    {
     "data": {
      "text/plain": [
       "{'belajar': 1.6931471805599454,\n",
       " 'untuk': 1.2876820724517808,\n",
       " 'kampus': 1.6931471805599454,\n",
       " 'ke': 1.0,\n",
       " 'berangkat': 1.6931471805599454,\n",
       " 'saya': 1.6931471805599454}"
      ]
     },
     "execution_count": 25,
     "metadata": {},
     "output_type": "execute_result"
    }
   ],
   "source": [
    "text = 'saya pergi ke kampus'\n",
    "tf_idf(text)"
   ]
  },
  {
   "cell_type": "code",
   "execution_count": null,
   "id": "6d4f43c5-ea70-4162-8ed4-3401d57dd98e",
   "metadata": {},
   "outputs": [],
   "source": []
  }
 ],
 "metadata": {
  "kernelspec": {
   "display_name": "Python 3 (ipykernel)",
   "language": "python",
   "name": "python3"
  },
  "language_info": {
   "codemirror_mode": {
    "name": "ipython",
    "version": 3
   },
   "file_extension": ".py",
   "mimetype": "text/x-python",
   "name": "python",
   "nbconvert_exporter": "python",
   "pygments_lexer": "ipython3",
   "version": "3.9.7"
  }
 },
 "nbformat": 4,
 "nbformat_minor": 5
}

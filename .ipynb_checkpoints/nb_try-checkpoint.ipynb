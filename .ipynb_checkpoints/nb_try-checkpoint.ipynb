{
 "cells": [
  {
   "cell_type": "code",
   "execution_count": null,
   "id": "9c7c6cf2-3421-4ded-aef3-a438804e4698",
   "metadata": {},
   "outputs": [],
   "source": [
    "import re\n",
    "import pandas as pd\n",
    "import numpy as np\n",
    "import matplotlib.pyplot as plt\n",
    "import seaborn as sns\n",
    "from sklearn.feature_extraction.text import CountVectorizer\n",
    "from sklearn.naive_bayes import MultinomialNB\n",
    "from sklearn.model_selection import train_test_split\n",
    "from sklearn.metrics import confusion_matrix\n",
    "from nltk.tokenize import word_tokenize\n",
    "from nltk.corpus import stopwords"
   ]
  },
  {
   "cell_type": "code",
   "execution_count": null,
   "id": "e3d3fb87-866f-4105-b40b-c120329782fa",
   "metadata": {},
   "outputs": [],
   "source": [
    "df = pd.read_csv('fake_dataset.csv')\n",
    "df.head()"
   ]
  },
  {
   "cell_type": "code",
   "execution_count": null,
   "id": "4611ce6c-9a0b-424a-af98-f453600ee8dc",
   "metadata": {},
   "outputs": [],
   "source": [
    "print(\"No of missing title\\t:\", df[df['date'].isna()].shape[0])\n",
    "print(\"No of missing text\\t:\", df[df['name'].isna()].shape[0])\n",
    "print(\"No of missing source\\t:\", df[df['tweet'].isna()].shape[0])\n",
    "print(\"No of missing label\\t:\", df[df['Label'].isna()].shape[0])"
   ]
  },
  {
   "cell_type": "code",
   "execution_count": null,
   "id": "0840b5be-de76-4c0d-9091-dd9b8a058af8",
   "metadata": {},
   "outputs": [],
   "source": [
    "df = df.fillna('')"
   ]
  },
  {
   "cell_type": "code",
   "execution_count": null,
   "id": "dbdccc0c-c20e-4ce5-aa58-1b1d8d862514",
   "metadata": {},
   "outputs": [],
   "source": [
    "df['date_name_tweet'] = df['date'] + ' ' + df['name'] + ' ' + df['tweet']\n",
    "df.head()"
   ]
  },
  {
   "cell_type": "code",
   "execution_count": null,
   "id": "50c79217-86ce-412a-9387-61ba78f61dda",
   "metadata": {},
   "outputs": [],
   "source": [
    "df = df[df['Label']!='']\n",
    "print(df['Label'].unique())"
   ]
  },
  {
   "cell_type": "code",
   "execution_count": null,
   "id": "976c6e7f-cbd3-450b-9cf9-23020e396901",
   "metadata": {},
   "outputs": [],
   "source": [
    "df.loc[df['label'] == 'fake', 'label'] = 'FAKE'\n",
    "df.loc[df['label'] == 'Fake', 'label'] = 'FAKE'"
   ]
  },
  {
   "cell_type": "code",
   "execution_count": null,
   "id": "55418853-10ab-4df5-b670-0af167e964f5",
   "metadata": {},
   "outputs": [],
   "source": [
    "no_of_fakes = df.loc[df['label'] == 'FAKE'].count()[0]\n",
    "no_of_trues = df.loc[df['label'] == 'TRUE'].count()[0]\n",
    "print(no_of_fakes)\n",
    "print(no_of_trues)"
   ]
  },
  {
   "cell_type": "code",
   "execution_count": null,
   "id": "5121857d-7d51-4dd2-8f4d-8ba29ef26595",
   "metadata": {},
   "outputs": [],
   "source": [
    "df['title_text_source'] = df['title_text_source'].apply(clean)"
   ]
  },
  {
   "cell_type": "code",
   "execution_count": null,
   "id": "9a57eb89-67b8-4bd9-8a99-9a6902f41d5c",
   "metadata": {},
   "outputs": [],
   "source": [
    "vectorizer = CountVectorizer()\n",
    "X = vectorizer.fit_transform(df['date_name_tweet'].values)\n",
    "X = X.toarray()"
   ]
  },
  {
   "cell_type": "code",
   "execution_count": null,
   "id": "f166a045-2de2-49b1-ac91-3b902c2ad408",
   "metadata": {},
   "outputs": [],
   "source": [
    "y = df['Label'].values"
   ]
  },
  {
   "cell_type": "code",
   "execution_count": null,
   "id": "5e1b6f27-ff89-4be0-b7bf-6a2910a081b0",
   "metadata": {},
   "outputs": [],
   "source": [
    "X_train, X_test, y_train, y_test = train_test_split(X, y, shuffle=True, test_size=0.2, random_state=11)"
   ]
  },
  {
   "cell_type": "code",
   "execution_count": null,
   "id": "a2b5490d-d21d-43e7-9bac-6dfa692ec44f",
   "metadata": {},
   "outputs": [],
   "source": [
    "clf = MultinomialNB()\n",
    "clf.fit(X_train, y_train)"
   ]
  },
  {
   "cell_type": "code",
   "execution_count": null,
   "id": "4590743d-6960-4c21-a86d-30c7f221bd61",
   "metadata": {},
   "outputs": [],
   "source": [
    "print(clf.score(X_train, y_train))\n",
    "print(clf.score(X_test, y_test))"
   ]
  },
  {
   "cell_type": "code",
   "execution_count": null,
   "id": "6c18d19a-b879-43cc-bd62-a120bec02be0",
   "metadata": {},
   "outputs": [],
   "source": [
    "predictions = clf.predict(X_test)"
   ]
  },
  {
   "cell_type": "code",
   "execution_count": null,
   "id": "f9b1c01d-e351-4484-a77e-437131887ecb",
   "metadata": {},
   "outputs": [],
   "source": [
    "cm = confusion_matrix(y_test, predictions)"
   ]
  },
  {
   "cell_type": "code",
   "execution_count": null,
   "id": "49ca8f6b-cab5-4612-9dc9-f0e0ffda7bf1",
   "metadata": {},
   "outputs": [],
   "source": [
    "plt.figure(figsize=(6,6))\n",
    "sns.heatmap(cm, annot=True, fmt='d', xticklabels=['FAKE', 'TRUE'], yticklabels=['FAKE', 'TRUE'], cmap=plt.cm.Blues, cbar=False)\n",
    "plt.xlabel('Predicted Label')\n",
    "plt.ylabel('True Label')\n",
    "plt.show()"
   ]
  }
 ],
 "metadata": {
  "kernelspec": {
   "display_name": "Python 3 (ipykernel)",
   "language": "python",
   "name": "python3"
  },
  "language_info": {
   "codemirror_mode": {
    "name": "ipython",
    "version": 3
   },
   "file_extension": ".py",
   "mimetype": "text/x-python",
   "name": "python",
   "nbconvert_exporter": "python",
   "pygments_lexer": "ipython3",
   "version": "3.9.7"
  }
 },
 "nbformat": 4,
 "nbformat_minor": 5
}
